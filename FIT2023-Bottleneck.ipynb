{
 "cells": [
  {
   "cell_type": "code",
   "execution_count": 78,
   "id": "aa229d06-a570-4579-8ec2-38507ca22dc2",
   "metadata": {},
   "outputs": [
    {
     "name": "stdout",
     "output_type": "stream",
     "text": [
      "embeddings_base_logger= <Logger embeddings_base (INFO)>\n",
      "<class 'tokenizers.Tokenizer'>\n",
      "tokenizer class= <class 'tokenizers.Tokenizer'>\n",
      "key_prefix= rwkv:RWKV-4-Raven-3B-v11-Eng49%-Chn49%-Jpn1%-Other1%-20230429-ctx4096.pth:Tokenizer\n"
     ]
    },
    {
     "data": {
      "text/html": [
       "<div>\n",
       "<style scoped>\n",
       "    .dataframe tbody tr th:only-of-type {\n",
       "        vertical-align: middle;\n",
       "    }\n",
       "\n",
       "    .dataframe tbody tr th {\n",
       "        vertical-align: top;\n",
       "    }\n",
       "\n",
       "    .dataframe thead th {\n",
       "        text-align: right;\n",
       "    }\n",
       "</style>\n",
       "<table border=\"1\" class=\"dataframe\">\n",
       "  <thead>\n",
       "    <tr style=\"text-align: right;\">\n",
       "      <th></th>\n",
       "      <th>0</th>\n",
       "    </tr>\n",
       "  </thead>\n",
       "  <tbody>\n",
       "    <tr>\n",
       "      <th>0</th>\n",
       "      <td>512.470542</td>\n",
       "    </tr>\n",
       "    <tr>\n",
       "      <th>1</th>\n",
       "      <td>545.003132</td>\n",
       "    </tr>\n",
       "    <tr>\n",
       "      <th>2</th>\n",
       "      <td>846.254542</td>\n",
       "    </tr>\n",
       "    <tr>\n",
       "      <th>3</th>\n",
       "      <td>1357.438486</td>\n",
       "    </tr>\n",
       "    <tr>\n",
       "      <th>4</th>\n",
       "      <td>1415.779834</td>\n",
       "    </tr>\n",
       "    <tr>\n",
       "      <th>5</th>\n",
       "      <td>1487.983252</td>\n",
       "    </tr>\n",
       "    <tr>\n",
       "      <th>6</th>\n",
       "      <td>3595.379032</td>\n",
       "    </tr>\n",
       "    <tr>\n",
       "      <th>7</th>\n",
       "      <td>5805.533942</td>\n",
       "    </tr>\n",
       "    <tr>\n",
       "      <th>8</th>\n",
       "      <td>7722.641003</td>\n",
       "    </tr>\n",
       "    <tr>\n",
       "      <th>9</th>\n",
       "      <td>104654.442219</td>\n",
       "    </tr>\n",
       "    <tr>\n",
       "      <th>10</th>\n",
       "      <td>1261.466941</td>\n",
       "    </tr>\n",
       "    <tr>\n",
       "      <th>11</th>\n",
       "      <td>1221.047992</td>\n",
       "    </tr>\n",
       "    <tr>\n",
       "      <th>12</th>\n",
       "      <td>1490.449382</td>\n",
       "    </tr>\n",
       "    <tr>\n",
       "      <th>13</th>\n",
       "      <td>2042.479965</td>\n",
       "    </tr>\n",
       "    <tr>\n",
       "      <th>14</th>\n",
       "      <td>2082.489512</td>\n",
       "    </tr>\n",
       "    <tr>\n",
       "      <th>15</th>\n",
       "      <td>2163.259305</td>\n",
       "    </tr>\n",
       "    <tr>\n",
       "      <th>16</th>\n",
       "      <td>4622.300126</td>\n",
       "    </tr>\n",
       "    <tr>\n",
       "      <th>17</th>\n",
       "      <td>6469.631401</td>\n",
       "    </tr>\n",
       "    <tr>\n",
       "      <th>18</th>\n",
       "      <td>10627.261093</td>\n",
       "    </tr>\n",
       "    <tr>\n",
       "      <th>19</th>\n",
       "      <td>105543.211802</td>\n",
       "    </tr>\n",
       "  </tbody>\n",
       "</table>\n",
       "</div>"
      ],
      "text/plain": [
       "                0\n",
       "0      512.470542\n",
       "1      545.003132\n",
       "2      846.254542\n",
       "3     1357.438486\n",
       "4     1415.779834\n",
       "5     1487.983252\n",
       "6     3595.379032\n",
       "7     5805.533942\n",
       "8     7722.641003\n",
       "9   104654.442219\n",
       "10    1261.466941\n",
       "11    1221.047992\n",
       "12    1490.449382\n",
       "13    2042.479965\n",
       "14    2082.489512\n",
       "15    2163.259305\n",
       "16    4622.300126\n",
       "17    6469.631401\n",
       "18   10627.261093\n",
       "19  105543.211802"
      ]
     },
     "execution_count": 78,
     "metadata": {},
     "output_type": "execute_result"
    }
   ],
   "source": [
    "import importlib\n",
    "import os\n",
    "import logging\n",
    "import plotly.graph_objects as go\n",
    "import plotly.express as px\n",
    "import pandas as pd\n",
    "import numpy as np\n",
    "import matplotlib.pyplot as plt\n",
    "\n",
    "\n",
    "from params import Params\n",
    "import params\n",
    "importlib.reload(params)\n",
    "\n",
    "import cache\n",
    "importlib.reload(cache)\n",
    "\n",
    "\n",
    "#logging.basicConfig(encoding='utf-8', level=logging.DEBUG)\n",
    "import embeddings_base\n",
    "importlib.reload(embeddings_base)\n",
    "\n",
    "import rwkv_runner\n",
    "importlib.reload(rwkv_runner)\n",
    "from rwkv_runner import rwkv\n",
    "importlib.reload(rwkv_runner)\n",
    "from source_file_iterator import SourceFileIterator\n",
    "import source_file_iterator\n",
    "importlib.reload(source_file_iterator)\n",
    "\n",
    "modelname = 'RWKV-4-Raven-3B-v11-Eng49%-Chn49%-Jpn1%-Other1%-20230429-ctx4096.pth'\n",
    "\n",
    "os.environ[\"RWKV_CUDA_ON\"] = '1'\n",
    "r = rwkv(modelname,\n",
    "         '20B_tokenizer.json',\n",
    "         model_load=False)\n",
    "\n",
    "iter = SourceFileIterator(r.data_top_dir, r.data_subdirs, r.numTokensList)\n",
    "dfs = []\n",
    "for out in iter:\n",
    "    file = out[0][1]\n",
    "    numTokens = out[1][1]\n",
    "    with open(file, \"rb\") as f:\n",
    "        emb = r.getHeadPersistenceDiagramEmbeddings(f, numTokens)\n",
    "    df = pd.DataFrame(emb)\n",
    "    dfs.append(df)\n",
    "    #df['size']=0.01\n",
    "dfs[0] # [2, n]のベクトル群から1次元に変換されている"
   ]
  },
  {
   "cell_type": "markdown",
   "id": "fdba879b-d884-44c9-912b-a9fdf9b5083d",
   "metadata": {},
   "source": [
    "- postfunc=identical\n",
    "```\n",
    "python3 rwkv_runner.py --rebuild-cache bottleneck\n",
    "python3 rwkv_runner.py --rebuild-cache sim\n",
    "            r = rwkv(model_name, tokenizer_name, model_load = False)\r",
    "           \"\"\"\r\n",
    "            embFunc = r.getHeadPersistenceDi.BottleneckSim]:\r\n",
    "            for simFunc in [r.BottleneckSim]:\r\n",
    "                for numTokens in r.numTokensList:\r\n",
    "                    c = r.db.deleteCache(\"simmat\", embFunc = embFunc,\r\n",
    "                              simFunc = simFunc,\r\n",
    "                              numTokens = numTokens)\r\n",
    "                    matrix = r.simMat(embFunc, simFunc, numTokens)\r\n",
    "\n",
    "```"
   ]
  },
  {
   "cell_type": "code",
   "execution_count": 7,
   "id": "2085b4c1-d67a-4311-aab5-ae4e3801955c",
   "metadata": {},
   "outputs": [
    {
     "data": {
      "text/html": [
       "<div>\n",
       "<style scoped>\n",
       "    .dataframe tbody tr th:only-of-type {\n",
       "        vertical-align: middle;\n",
       "    }\n",
       "\n",
       "    .dataframe tbody tr th {\n",
       "        vertical-align: top;\n",
       "    }\n",
       "\n",
       "    .dataframe thead th {\n",
       "        text-align: right;\n",
       "    }\n",
       "</style>\n",
       "<table border=\"1\" class=\"dataframe\">\n",
       "  <thead>\n",
       "    <tr style=\"text-align: right;\">\n",
       "      <th></th>\n",
       "      <th>0</th>\n",
       "    </tr>\n",
       "  </thead>\n",
       "  <tbody>\n",
       "    <tr>\n",
       "      <th>count</th>\n",
       "      <td>20.000000</td>\n",
       "    </tr>\n",
       "    <tr>\n",
       "      <th>mean</th>\n",
       "      <td>13273.326175</td>\n",
       "    </tr>\n",
       "    <tr>\n",
       "      <th>std</th>\n",
       "      <td>31519.883070</td>\n",
       "    </tr>\n",
       "    <tr>\n",
       "      <th>min</th>\n",
       "      <td>512.470542</td>\n",
       "    </tr>\n",
       "    <tr>\n",
       "      <th>25%</th>\n",
       "      <td>1333.445600</td>\n",
       "    </tr>\n",
       "    <tr>\n",
       "      <th>50%</th>\n",
       "      <td>2062.484739</td>\n",
       "    </tr>\n",
       "    <tr>\n",
       "      <th>75%</th>\n",
       "      <td>5971.558307</td>\n",
       "    </tr>\n",
       "    <tr>\n",
       "      <th>max</th>\n",
       "      <td>105543.211802</td>\n",
       "    </tr>\n",
       "  </tbody>\n",
       "</table>\n",
       "</div>"
      ],
      "text/plain": [
       "                   0\n",
       "count      20.000000\n",
       "mean    13273.326175\n",
       "std     31519.883070\n",
       "min       512.470542\n",
       "25%      1333.445600\n",
       "50%      2062.484739\n",
       "75%      5971.558307\n",
       "max    105543.211802"
      ]
     },
     "execution_count": 7,
     "metadata": {},
     "output_type": "execute_result"
    }
   ],
   "source": [
    "iter = SourceFileIterator(r.data_top_dir, r.data_subdirs, r.numTokensList)\n",
    "dfs = []\n",
    "for out in iter:\n",
    "    file = out[0][1]\n",
    "    numTokens = out[1][1]\n",
    "    with open(file, \"rb\") as f:\n",
    "        emb = r.getHeadPersistenceDiagramEmbeddings(f, numTokens)\n",
    "    df = pd.DataFrame(emb)\n",
    "    dfs.append(df)\n",
    "pd.DataFrame(dfs[0]).describe()"
   ]
  },
  {
   "cell_type": "markdown",
   "id": "b97f9eb8-f996-4340-a8d9-3b92c825ffbc",
   "metadata": {},
   "source": [
    "- identityだとこの値なので，sigmaを巨大に(1000)"
   ]
  },
  {
   "cell_type": "code",
   "execution_count": 8,
   "id": "fdc877cd-8fd9-498b-a756-862d4b56053e",
   "metadata": {},
   "outputs": [
    {
     "name": "stdout",
     "output_type": "stream",
     "text": [
      "[[1.         0.34833078 0.34833051 0.56697716 0.3483306  0.48764275\n",
      "  0.63098652 0.23750988 0.16180119 0.34833081 0.32434522 0.57260731\n",
      "  0.34833073 0.29311711 0.34833073]\n",
      " [0.34833067 1.         0.69717121 0.62134193 0.24856895 0.41101383\n",
      "  0.28105785 0.23750984 0.16180128 0.55959541 0.32434507 0.45866399\n",
      "  0.63761686 0.29311689 0.61652592]\n",
      " [0.34833067 0.6971709  1.         0.62134191 0.42627839 0.41101375\n",
      "  0.50356811 0.23750959 0.2672998  0.6728501  0.32434484 0.59566914\n",
      "  0.63761676 0.53376812 0.61652595]\n",
      " [0.56697721 0.62134192 0.62134199 1.         0.24856894 0.48764278\n",
      "  0.28105749 0.23750943 0.16180126 0.55959558 0.32434472 0.45866409\n",
      "  0.62134203 0.29311688 0.61652575]\n",
      " [0.34833067 0.24856878 0.4262784  0.2485689  1.         0.24856882\n",
      "  0.28105779 0.23750938 0.36409751 0.42728084 0.27264259 0.59785044\n",
      "  0.5046856  0.63499426 0.24856865]\n",
      " [0.48764307 0.41101378 0.41101405 0.48764285 0.24856892 1.\n",
      "  0.48764272 0.23750959 0.3640974  0.41101413 0.41101398 0.45866411\n",
      "  0.41101383 0.50128066 0.41101412]\n",
      " [0.63098649 0.28105759 0.50356852 0.28105763 0.28105776 0.48764301\n",
      "  1.         0.28105775 0.20908742 0.28105773 0.28105791 0.74311788\n",
      "  0.28105772 0.63499441 0.2810579 ]\n",
      " [0.23750932 0.23750961 0.23750985 0.2375098  0.23750983 0.23750977\n",
      "  0.28105746 1.         0.16180099 0.23750969 0.23750991 0.2375095\n",
      "  0.23750948 0.23750958 0.23750948]\n",
      " [0.16180137 0.16180145 0.26730016 0.16180125 0.36409733 0.36409731\n",
      "  0.20908755 0.1618013  1.         0.16180134 0.32014826 0.36409752\n",
      "  0.3640975  0.36409754 0.1618015 ]\n",
      " [0.34833067 0.55959548 0.67285017 0.55959551 0.42728097 0.41101375\n",
      "  0.28105746 0.23750959 0.16180099 1.         0.61633028 0.65479108\n",
      "  0.75272099 0.56297965 0.79662899]\n",
      " [0.32434518 0.32434492 0.32434512 0.3243452  0.27264287 0.41101375\n",
      "  0.28105746 0.23750959 0.3201483  0.61633025 1.         0.57008439\n",
      "  0.77495631 0.4650599  0.70039037]\n",
      " [0.57260728 0.45866413 0.59566917 0.45866389 0.59785071 0.45866404\n",
      "  0.74311795 0.23750959 0.36409737 0.65479123 0.57008464 1.\n",
      "  0.65479115 0.65710744 0.47232334]\n",
      " [0.34833058 0.63761692 0.63761666 0.62134191 0.5046857  0.41101383\n",
      "  0.28105746 0.23750959 0.36409737 0.75272086 0.77495639 0.65479115\n",
      "  1.         0.63499441 0.706794  ]\n",
      " [0.29311713 0.29311718 0.53376799 0.29311711 0.63499406 0.50128025\n",
      "  0.63499422 0.23750959 0.36409737 0.56297975 0.46505994 0.65710747\n",
      "  0.63499425 1.         0.50128068]\n",
      " [0.34833067 0.6165261  0.61652584 0.61652556 0.24856865 0.41101375\n",
      "  0.28105763 0.23750948 0.16180151 0.7966292  0.70039037 0.47232375\n",
      "  0.70679378 0.50128068 1.        ]]\n"
     ]
    },
    {
     "data": {
      "image/png": "[encoded data removed]",
      "text/plain": [
       "<Figure size 640x480 with 2 Axes>"
      ]
     },
     "metadata": {},
     "output_type": "display_data"
    }
   ],
   "source": [
    "np.set_printoptions(suppress=True)\n",
    "import matplotlib.pyplot as plt\n",
    "\n",
    "embFunc = r.getHeadPersistenceDiagramEmbeddings\n",
    "simFunc = r.BottleneckSim\n",
    "numTokens=1024\n",
    "#c = r.db.deleteCache(\"simmat\", embFunc=embFunc, simFunc=simFunc, numTokens=numTokens)\n",
    "# jupyterからプーリングができないので，コマンドラインでキャッシュを作ってから確認すること\n",
    "matrix=r.simMat(embFunc, simFunc, numTokens)\n",
    "print(matrix)\n",
    "fig = plt.figure()\n",
    "ax = fig.add_subplot(1, 1, 1)\n",
    "cax = ax.imshow(matrix, cmap=\"viridis\", origin=\"upper\")\n",
    "cbar = fig.colorbar(cax, shrink=0.8)"
   ]
  },
  {
   "cell_type": "markdown",
   "id": "c9e1e82e-a9d8-4ad2-bd66-577af418d8cc",
   "metadata": {},
   "source": [
    "- postfunc=normalize(sigma=0.025)\n",
    "- rebuild-cache simはキャッシュを見ないので，bottleneckのrebuildはいらなかった\n",
    "```\r\n",
    "python3 rwkv_runner.py --rebuild-cache bottleneck\r\n",
    "python3 rwkv_runner.py --rebuild-cache s\n",
    "\n",
    "```im"
   ]
  },
  {
   "cell_type": "code",
   "execution_count": 9,
   "id": "54d016ff-72ca-47b9-a79a-bf302d772b9f",
   "metadata": {},
   "outputs": [
    {
     "data": {
      "text/html": [
       "<div>\n",
       "<style scoped>\n",
       "    .dataframe tbody tr th:only-of-type {\n",
       "        vertical-align: middle;\n",
       "    }\n",
       "\n",
       "    .dataframe tbody tr th {\n",
       "        vertical-align: top;\n",
       "    }\n",
       "\n",
       "    .dataframe thead th {\n",
       "        text-align: right;\n",
       "    }\n",
       "</style>\n",
       "<table border=\"1\" class=\"dataframe\">\n",
       "  <thead>\n",
       "    <tr style=\"text-align: right;\">\n",
       "      <th></th>\n",
       "      <th>0</th>\n",
       "    </tr>\n",
       "  </thead>\n",
       "  <tbody>\n",
       "    <tr>\n",
       "      <th>count</th>\n",
       "      <td>20.000000</td>\n",
       "    </tr>\n",
       "    <tr>\n",
       "      <th>mean</th>\n",
       "      <td>13273.326175</td>\n",
       "    </tr>\n",
       "    <tr>\n",
       "      <th>std</th>\n",
       "      <td>31519.883070</td>\n",
       "    </tr>\n",
       "    <tr>\n",
       "      <th>min</th>\n",
       "      <td>512.470542</td>\n",
       "    </tr>\n",
       "    <tr>\n",
       "      <th>25%</th>\n",
       "      <td>1333.445600</td>\n",
       "    </tr>\n",
       "    <tr>\n",
       "      <th>50%</th>\n",
       "      <td>2062.484739</td>\n",
       "    </tr>\n",
       "    <tr>\n",
       "      <th>75%</th>\n",
       "      <td>5971.558307</td>\n",
       "    </tr>\n",
       "    <tr>\n",
       "      <th>max</th>\n",
       "      <td>105543.211802</td>\n",
       "    </tr>\n",
       "  </tbody>\n",
       "</table>\n",
       "</div>"
      ],
      "text/plain": [
       "                   0\n",
       "count      20.000000\n",
       "mean    13273.326175\n",
       "std     31519.883070\n",
       "min       512.470542\n",
       "25%      1333.445600\n",
       "50%      2062.484739\n",
       "75%      5971.558307\n",
       "max    105543.211802"
      ]
     },
     "execution_count": 9,
     "metadata": {},
     "output_type": "execute_result"
    }
   ],
   "source": [
    "iter = SourceFileIterator(r.data_top_dir, r.data_subdirs, r.numTokensList)\n",
    "dfs = []\n",
    "for out in iter:\n",
    "    file = out[0][1]\n",
    "    numTokens = out[1][1]\n",
    "    with open(file, \"rb\") as f:\n",
    "        emb = r.getHeadPersistenceDiagramEmbeddings(f, numTokens)\n",
    "    df = pd.DataFrame(emb)\n",
    "    dfs.append(df)\n",
    "pd.DataFrame(dfs[0]).describe()"
   ]
  },
  {
   "cell_type": "code",
   "execution_count": 21,
   "id": "757a740c-1044-4d03-8fe6-8cb08915142a",
   "metadata": {},
   "outputs": [
    {
     "name": "stdout",
     "output_type": "stream",
     "text": [
      "[[1.         0.         0.90352284 0.8035861  0.         0.00660899\n",
      "  0.02440067 0.33770785 0.37876455 0.00000055 0.00000047 0.03068484\n",
      "  0.34199337 0.00001468 0.00004344]\n",
      " [0.         1.         0.         0.         0.         0.\n",
      "  0.         0.         0.         0.         0.         0.\n",
      "  0.         0.         0.        ]\n",
      " [0.90352284 0.         1.         0.8035861  0.         0.00660899\n",
      "  0.02440067 0.33770785 0.37876455 0.00000055 0.00000047 0.03068484\n",
      "  0.34199337 0.00001468 0.00004344]\n",
      " [0.8035861  0.         0.8035861  1.         0.         0.00660899\n",
      "  0.02440067 0.33770785 0.37876455 0.00000055 0.00000047 0.03068484\n",
      "  0.34199337 0.00001468 0.00004344]\n",
      " [0.         0.         0.         0.         1.         0.\n",
      "  0.         0.         0.         0.00000013 0.         0.\n",
      "  0.         0.         0.        ]\n",
      " [0.00660899 0.         0.00660899 0.00660899 0.         1.\n",
      "  0.00660899 0.00660899 0.00660899 0.00000055 0.00000047 0.01520511\n",
      "  0.00660899 0.00001468 0.00004344]\n",
      " [0.02440067 0.         0.02440067 0.02440067 0.         0.00660899\n",
      "  1.         0.10602582 0.02440067 0.00097061 0.00000047 0.02440067\n",
      "  0.02440067 0.00001468 0.00619816]\n",
      " [0.33770785 0.         0.33770785 0.33770785 0.         0.00660899\n",
      "  0.10602582 1.         0.33770785 0.00021502 0.00000047 0.03068484\n",
      "  0.33770785 0.00001468 0.00004344]\n",
      " [0.37876455 0.         0.37876455 0.37876455 0.         0.00660899\n",
      "  0.02440067 0.33770785 1.         0.00000055 0.00000047 0.03068484\n",
      "  0.4630349  0.00001468 0.00004344]\n",
      " [0.00000055 0.         0.00000055 0.00000055 0.00000013 0.00000055\n",
      "  0.00097061 0.00021502 0.00000055 1.         0.00000055 0.00000055\n",
      "  0.00000055 0.00000055 0.00159159]\n",
      " [0.00000047 0.         0.00000047 0.00000047 0.         0.00000047\n",
      "  0.00000047 0.00000047 0.00000047 0.00000055 1.         0.00000047\n",
      "  0.00000706 0.00000047 0.00000047]\n",
      " [0.03068484 0.         0.03068484 0.03068484 0.         0.01520511\n",
      "  0.02440067 0.03068484 0.03068484 0.00000055 0.00000047 1.\n",
      "  0.03068484 0.00001468 0.00004344]\n",
      " [0.34199337 0.         0.34199337 0.34199337 0.         0.00660899\n",
      "  0.02440067 0.33770785 0.4630349  0.00000055 0.00000706 0.03068484\n",
      "  1.         0.000679   0.00004344]\n",
      " [0.00001468 0.         0.00001468 0.00001468 0.         0.00001468\n",
      "  0.00001468 0.00001468 0.00001468 0.00000055 0.00000047 0.00001468\n",
      "  0.000679   1.         0.00001468]\n",
      " [0.00004344 0.         0.00004344 0.00004344 0.         0.00004344\n",
      "  0.00619816 0.00004344 0.00004344 0.00159159 0.00000047 0.00004344\n",
      "  0.00004344 0.00001468 1.        ]]\n"
     ]
    },
    {
     "data": {
      "image/png": "[encoded data removed]",
      "text/plain": [
       "<Figure size 640x480 with 2 Axes>"
      ]
     },
     "metadata": {},
     "output_type": "display_data"
    }
   ],
   "source": [
    "np.set_printoptions(suppress=True)\n",
    "import matplotlib.pyplot as plt\n",
    "\n",
    "embFunc = r.getHeadPersistenceDiagramEmbeddings\n",
    "simFunc = r.BottleneckSim\n",
    "numTokens=1024\n",
    "#c = r.db.deleteCache(\"simmat\", embFunc=embFunc, simFunc=simFunc, numTokens=numTokens)\n",
    "# jupyterからプーリングができないので，コマンドラインでキャッシュを作ってから確認すること\n",
    "matrix=r.simMat(embFunc, simFunc, numTokens)\n",
    "print(matrix)\n",
    "fig = plt.figure()\n",
    "ax = fig.add_subplot(1, 1, 1)\n",
    "cax = ax.imshow(matrix, cmap=\"viridis\", origin=\"upper\")\n",
    "cbar = fig.colorbar(cax, shrink=0.8)"
   ]
  },
  {
   "cell_type": "code",
   "execution_count": 22,
   "id": "2f7907b3-4c1a-4b58-991d-8ab9ea37cd5d",
   "metadata": {},
   "outputs": [
    {
     "data": {
      "image/png": "[encoded data removed]",
      "text/plain": [
       "<Figure size 1000x500 with 30 Axes>"
      ]
     },
     "metadata": {},
     "output_type": "display_data"
    }
   ],
   "source": [
    "r.all_simMatrixPlot()"
   ]
  },
  {
   "cell_type": "code",
   "execution_count": 23,
   "id": "0b744cfc-0733-4c8d-b9cd-6a9bd8def9ea",
   "metadata": {},
   "outputs": [
    {
     "data": {
      "text/plain": [
       "[0.3333333333333333,\n",
       " 0.3333333333333333,\n",
       " 0.3333333333333333,\n",
       " 0.36,\n",
       " 0.44,\n",
       " 0.3511111111111111,\n",
       " 0.3333333333333333,\n",
       " 0.3333333333333333,\n",
       " 0.3333333333333333,\n",
       " 0.6177777777777778,\n",
       " 0.52,\n",
       " 0.5377777777777778,\n",
       " 0.76,\n",
       " 0.7244444444444444,\n",
       " 0.7244444444444444]"
      ]
     },
     "execution_count": 23,
     "metadata": {},
     "output_type": "execute_result"
    }
   ],
   "source": [
    "r.getAllScores()"
   ]
  },
  {
   "cell_type": "code",
   "execution_count": 20,
   "id": "046bb6f1-7356-46cc-ac71-72869c1b9bd3",
   "metadata": {},
   "outputs": [
    {
     "name": "stdout",
     "output_type": "stream",
     "text": [
      "[[1.         0.65714238 0.20628235 0.00951303 0.00809191 0.01863765\n",
      "  0.18075879 0.0109493  0.74119561 0.00933509 0.07296893 0.91075186\n",
      "  0.60178204 0.0319345  0.53724353]\n",
      " [0.65714238 1.         0.20628235 0.00951303 0.00809191 0.01863765\n",
      "  0.18075879 0.0109493  0.65714238 0.00933509 0.07296893 0.65714238\n",
      "  0.60178204 0.0319345  0.53724353]\n",
      " [0.20628235 0.20628235 1.         0.00951303 0.00809191 0.01863765\n",
      "  0.20628235 0.0109493  0.20628235 0.00933509 0.07296893 0.21365254\n",
      "  0.21614491 0.0319345  0.20628235]\n",
      " [0.00951303 0.00951303 0.00951303 1.         0.1008526  0.16605892\n",
      "  0.00951303 0.16416231 0.00951303 0.01088039 0.00951303 0.00951303\n",
      "  0.00951303 0.00951303 0.00951303]\n",
      " [0.00809191 0.00809191 0.00809191 0.1008526  1.         0.00809191\n",
      "  0.00809191 0.14940281 0.00809191 0.00809191 0.00809191 0.00809191\n",
      "  0.00809191 0.00809191 0.00809191]\n",
      " [0.01863765 0.01863765 0.01863765 0.16605892 0.00809191 1.\n",
      "  0.01863765 0.01287897 0.01863765 0.01088039 0.01863765 0.01863765\n",
      "  0.01863765 0.01863765 0.01863765]\n",
      " [0.18075879 0.18075879 0.20628235 0.00951303 0.00809191 0.01863765\n",
      "  1.         0.0109493  0.18075879 0.00933509 0.07296893 0.18075879\n",
      "  0.3314711  0.0319345  0.18075879]\n",
      " [0.0109493  0.0109493  0.0109493  0.16416231 0.14940281 0.01287897\n",
      "  0.0109493  1.         0.0109493  0.00942105 0.0109493  0.0109493\n",
      "  0.0109493  0.0109493  0.0109493 ]\n",
      " [0.74119561 0.65714238 0.20628235 0.00951303 0.00809191 0.01863765\n",
      "  0.18075879 0.0109493  1.         0.00933509 0.07296893 0.77111\n",
      "  0.60178204 0.0319345  0.53724353]\n",
      " [0.00933509 0.00933509 0.00933509 0.01088039 0.00809191 0.01088039\n",
      "  0.00933509 0.00942105 0.00933509 1.         0.00933509 0.00933509\n",
      "  0.00933509 0.00933509 0.00933509]\n",
      " [0.07296893 0.07296893 0.07296893 0.00951303 0.00809191 0.01863765\n",
      "  0.07296893 0.0109493  0.07296893 0.00933509 1.         0.07296893\n",
      "  0.13438677 0.04040978 0.07296893]\n",
      " [0.91075186 0.65714238 0.21365254 0.00951303 0.00809191 0.01863765\n",
      "  0.18075879 0.0109493  0.77111    0.00933509 0.07296893 1.\n",
      "  0.60178204 0.0319345  0.53724353]\n",
      " [0.60178204 0.60178204 0.21614491 0.00951303 0.00809191 0.01863765\n",
      "  0.3314711  0.0109493  0.60178204 0.00933509 0.13438677 0.60178204\n",
      "  1.         0.0319345  0.53724353]\n",
      " [0.0319345  0.0319345  0.0319345  0.00951303 0.00809191 0.01863765\n",
      "  0.0319345  0.0109493  0.0319345  0.00933509 0.04040978 0.0319345\n",
      "  0.0319345  1.         0.04040978]\n",
      " [0.53724353 0.53724353 0.20628235 0.00951303 0.00809191 0.01863765\n",
      "  0.18075879 0.0109493  0.53724353 0.00933509 0.07296893 0.53724353\n",
      "  0.53724353 0.04040978 1.        ]]\n"
     ]
    },
    {
     "data": {
      "image/png": "[encoded data removed]",
      "text/plain": [
       "<Figure size 640x480 with 2 Axes>"
      ]
     },
     "metadata": {},
     "output_type": "display_data"
    }
   ],
   "source": [
    "np.set_printoptions(suppress=True)\n",
    "import matplotlib.pyplot as plt\n",
    "\n",
    "embFunc = r.getHeadPersistenceDiagramEmbeddings\n",
    "simFunc = r.BottleneckSim\n",
    "numTokens=2048\n",
    "#c = r.db.deleteCache(\"simmat\", embFunc=embFunc, simFunc=simFunc, numTokens=numTokens)\n",
    "# jupyterからプーリングができないので，コマンドラインでキャッシュを作ってから確認すること\n",
    "matrix=r.simMat(embFunc, simFunc, numTokens)\n",
    "print(matrix)\n",
    "fig = plt.figure()\n",
    "ax = fig.add_subplot(1, 1, 1)\n",
    "cax = ax.imshow(matrix, cmap=\"viridis\", origin=\"upper\")\n",
    "cbar = fig.colorbar(cax, shrink=0.8)"
   ]
  },
  {
   "cell_type": "markdown",
   "id": "38f72f65-7eeb-4081-b7f2-dca9e4899fdb",
   "metadata": {},
   "source": [
    "- postfunc=scaling=100,sigma=100\n",
    "- po\n",
    "- rebuild-cache simはキャッシュを見ないので，bottleneckのrebuildはいらなかった→念のため両方やったほうが安全そう\n",
    "```\n",
    "python3 rwkv_runner.py --rebuild-cache bottleneck\n",
    "python3 rwkv_runner.py --rebuild-cache sim\n",
    "\n",
    "```"
   ]
  },
  {
   "cell_type": "code",
   "execution_count": 28,
   "id": "5a91fb13-57c5-4075-92e9-744228c05c05",
   "metadata": {},
   "outputs": [
    {
     "name": "stdout",
     "output_type": "stream",
     "text": [
      "[[1.         0.99092889 0.98954255 0.99092888 0.97609045 0.98881303\n",
      "  0.98565388 0.9285672  0.9422237  0.98881304 0.97609046 0.99092888\n",
      "  0.99501248 0.93725487 0.99092889]\n",
      " [0.99092889 1.         0.98805936 0.99820162 0.97609047 0.98393051\n",
      "  0.98211192 0.92856716 0.94222372 0.98881303 0.97609045 0.99282585\n",
      "  0.99092888 0.93725483 0.99639401]\n",
      " [0.98954255 0.98805936 1.         0.98805935 0.98116708 0.99092889\n",
      "  0.99549766 0.94222374 0.94222368 0.99282585 0.97609045 0.99158559\n",
      "  0.98805936 0.93725488 0.99282586]\n",
      " [0.99092888 0.99820162 0.98805935 1.         0.97609047 0.97819132\n",
      "  0.98211191 0.92856716 0.94222365 0.98881304 0.97609045 0.99282585\n",
      "  0.99092888 0.93725483 0.99639401]\n",
      " [0.97609044 0.97609045 0.98116708 0.97609044 1.         0.99092889\n",
      "  0.9781913  0.92856716 0.94222368 0.98116708 0.97609045 0.98116708\n",
      "  0.98211192 0.93725488 0.9811671 ]\n",
      " [0.98881303 0.98393049 0.99092888 0.97819129 0.99092888 1.\n",
      "  0.99024785 0.92856722 0.94222368 0.98211192 0.97609045 0.98019865\n",
      "  0.9856539  0.93725488 0.9839305 ]\n",
      " [0.98565389 0.98211193 0.99549766 0.98211193 0.97819132 0.99024786\n",
      "  1.         0.92856717 0.94222368 0.98881304 0.97609045 0.98565389\n",
      "  0.98728157 0.93725488 0.98565389]\n",
      " [0.92856719 0.92856721 0.94222375 0.9285672  0.92856715 0.92856716\n",
      "  0.92856721 1.         0.92856719 0.92856711 0.94222368 0.9285672\n",
      "  0.92856722 0.94058802 0.92856714]\n",
      " [0.94222375 0.94222367 0.94222373 0.94222369 0.94222375 0.94222372\n",
      "  0.9422237  0.92856717 1.         0.94222368 0.94222375 0.94222374\n",
      "  0.94222374 0.93725488 0.94222367]\n",
      " [0.98881303 0.98881303 0.99282586 0.98881304 0.98116708 0.98211191\n",
      "  0.98881303 0.92856717 0.94222368 1.         0.97609045 0.99158559\n",
      "  0.98881304 0.93725486 0.98881304]\n",
      " [0.97609044 0.97609045 0.97609046 0.97609046 0.97609047 0.97609046\n",
      "  0.97609046 0.94222374 0.94222368 0.97609045 1.         0.98480413\n",
      "  0.97609044 0.93725488 0.97609047]\n",
      " [0.99092889 0.99282585 0.99158559 0.99282585 0.98116708 0.98019867\n",
      "  0.9856539  0.92856716 0.94222368 0.9915856  0.98480413 1.\n",
      "  0.99092889 0.93725486 0.99282586]\n",
      " [0.99501247 0.99092889 0.98805935 0.99092889 0.98211191 0.98565388\n",
      "  0.98728157 0.92856716 0.94222368 0.98881304 0.97609045 0.99092888\n",
      "  1.         0.93725485 0.99092889]\n",
      " [0.93725485 0.93725484 0.93725482 0.93725483 0.93725487 0.93725489\n",
      "  0.93725481 0.94058802 0.93725485 0.93725485 0.93725487 0.93725484\n",
      "  0.93725482 1.         0.93725485]\n",
      " [0.99092889 0.99639401 0.99282586 0.99639402 0.98116707 0.98393051\n",
      "  0.9856539  0.92856719 0.94222368 0.98881304 0.97609045 0.99282585\n",
      "  0.99092889 0.93725486 1.        ]]\n"
     ]
    },
    {
     "data": {
      "image/png": "[encoded data removed]",
      "text/plain": [
       "<Figure size 640x480 with 2 Axes>"
      ]
     },
     "metadata": {},
     "output_type": "display_data"
    }
   ],
   "source": [
    "np.set_printoptions(suppress=True)\n",
    "import matplotlib.pyplot as plt\n",
    "\n",
    "embFunc = r.getHeadPersistenceDiagramEmbeddings\n",
    "simFunc = r.BottleneckSim\n",
    "numTokens=2048\n",
    "#c = r.db.deleteCache(\"simmat\", embFunc=embFunc, simFunc=simFunc, numTokens=numTokens)\n",
    "# jupyterからプーリングができないので，コマンドラインでキャッシュを作ってから確認すること\n",
    "matrix=r.simMat(embFunc, simFunc, numTokens)\n",
    "print(matrix)\n",
    "fig = plt.figure()\n",
    "ax = fig.add_subplot(1, 1, 1)\n",
    "cax = ax.imshow(matrix, cmap=\"viridis\", origin=\"upper\")\n",
    "cbar = fig.colorbar(cax, shrink=0.8)"
   ]
  },
  {
   "cell_type": "markdown",
   "id": "e29427ce-43ee-475e-ab48-9ebc5c6b34c3",
   "metadata": {},
   "source": [
    "- postfuncの効果確認"
   ]
  },
  {
   "cell_type": "code",
   "execution_count": 36,
   "id": "9f27f0e8-b0cc-44d9-9e49-c80d91c5ff1e",
   "metadata": {},
   "outputs": [
    {
     "data": {
      "text/html": [
       "<div>\n",
       "<style scoped>\n",
       "    .dataframe tbody tr th:only-of-type {\n",
       "        vertical-align: middle;\n",
       "    }\n",
       "\n",
       "    .dataframe tbody tr th {\n",
       "        vertical-align: top;\n",
       "    }\n",
       "\n",
       "    .dataframe thead th {\n",
       "        text-align: right;\n",
       "    }\n",
       "</style>\n",
       "<table border=\"1\" class=\"dataframe\">\n",
       "  <thead>\n",
       "    <tr style=\"text-align: right;\">\n",
       "      <th></th>\n",
       "      <th>0</th>\n",
       "      <th>1</th>\n",
       "    </tr>\n",
       "  </thead>\n",
       "  <tbody>\n",
       "    <tr>\n",
       "      <th>count</th>\n",
       "      <td>10.000000</td>\n",
       "      <td>10.000000</td>\n",
       "    </tr>\n",
       "    <tr>\n",
       "      <th>mean</th>\n",
       "      <td>3417.649201</td>\n",
       "      <td>23129.003150</td>\n",
       "    </tr>\n",
       "    <tr>\n",
       "      <th>std</th>\n",
       "      <td>3353.268998</td>\n",
       "      <td>43246.927260</td>\n",
       "    </tr>\n",
       "    <tr>\n",
       "      <th>min</th>\n",
       "      <td>512.470542</td>\n",
       "      <td>545.003132</td>\n",
       "    </tr>\n",
       "    <tr>\n",
       "      <th>25%</th>\n",
       "      <td>1300.045164</td>\n",
       "      <td>1390.074677</td>\n",
       "    </tr>\n",
       "    <tr>\n",
       "      <th>50%</th>\n",
       "      <td>1786.469447</td>\n",
       "      <td>2102.869635</td>\n",
       "    </tr>\n",
       "    <tr>\n",
       "      <th>75%</th>\n",
       "      <td>4365.569853</td>\n",
       "      <td>6303.607037</td>\n",
       "    </tr>\n",
       "    <tr>\n",
       "      <th>max</th>\n",
       "      <td>10627.261093</td>\n",
       "      <td>105543.211802</td>\n",
       "    </tr>\n",
       "  </tbody>\n",
       "</table>\n",
       "</div>"
      ],
      "text/plain": [
       "                  0              1\n",
       "count     10.000000      10.000000\n",
       "mean    3417.649201   23129.003150\n",
       "std     3353.268998   43246.927260\n",
       "min      512.470542     545.003132\n",
       "25%     1300.045164    1390.074677\n",
       "50%     1786.469447    2102.869635\n",
       "75%     4365.569853    6303.607037\n",
       "max    10627.261093  105543.211802"
      ]
     },
     "execution_count": 36,
     "metadata": {},
     "output_type": "execute_result"
    }
   ],
   "source": [
    "iter = SourceFileIterator(r.data_top_dir, r.data_subdirs, r.numTokensList)\n",
    "dfs = []\n",
    "for out in iter:\n",
    "    file = out[0][1]\n",
    "    numTokens = out[1][1]\n",
    "    with open(file, \"rb\") as f:\n",
    "        emb = r.getHeadPersistenceDiagramEmbeddings(f, numTokens)\n",
    "    emb = emb.reshape(-1, 2)\n",
    "    df = pd.DataFrame(emb)\n",
    "    dfs.append(df)\n",
    "pd.DataFrame(dfs[0]).describe()"
   ]
  },
  {
   "cell_type": "code",
   "execution_count": 41,
   "id": "3eafa10e-04e9-48ac-bdf8-52f8a66d6a3b",
   "metadata": {},
   "outputs": [],
   "source": [
    "p = r.scaling(dfs[0])"
   ]
  },
  {
   "cell_type": "code",
   "execution_count": 42,
   "id": "68cce330-5591-48fb-8ae8-ef8c319b8468",
   "metadata": {},
   "outputs": [
    {
     "data": {
      "text/html": [
       "<div>\n",
       "<style scoped>\n",
       "    .dataframe tbody tr th:only-of-type {\n",
       "        vertical-align: middle;\n",
       "    }\n",
       "\n",
       "    .dataframe tbody tr th {\n",
       "        vertical-align: top;\n",
       "    }\n",
       "\n",
       "    .dataframe thead th {\n",
       "        text-align: right;\n",
       "    }\n",
       "</style>\n",
       "<table border=\"1\" class=\"dataframe\">\n",
       "  <thead>\n",
       "    <tr style=\"text-align: right;\">\n",
       "      <th></th>\n",
       "      <th>0</th>\n",
       "      <th>1</th>\n",
       "    </tr>\n",
       "  </thead>\n",
       "  <tbody>\n",
       "    <tr>\n",
       "      <th>count</th>\n",
       "      <td>10.000000</td>\n",
       "      <td>10.000000</td>\n",
       "    </tr>\n",
       "    <tr>\n",
       "      <th>mean</th>\n",
       "      <td>170.500000</td>\n",
       "      <td>1156.100000</td>\n",
       "    </tr>\n",
       "    <tr>\n",
       "      <th>std</th>\n",
       "      <td>167.732095</td>\n",
       "      <td>2162.297978</td>\n",
       "    </tr>\n",
       "    <tr>\n",
       "      <th>min</th>\n",
       "      <td>25.000000</td>\n",
       "      <td>27.000000</td>\n",
       "    </tr>\n",
       "    <tr>\n",
       "      <th>25%</th>\n",
       "      <td>64.750000</td>\n",
       "      <td>68.750000</td>\n",
       "    </tr>\n",
       "    <tr>\n",
       "      <th>50%</th>\n",
       "      <td>89.000000</td>\n",
       "      <td>105.000000</td>\n",
       "    </tr>\n",
       "    <tr>\n",
       "      <th>75%</th>\n",
       "      <td>218.000000</td>\n",
       "      <td>314.750000</td>\n",
       "    </tr>\n",
       "    <tr>\n",
       "      <th>max</th>\n",
       "      <td>531.000000</td>\n",
       "      <td>5277.000000</td>\n",
       "    </tr>\n",
       "  </tbody>\n",
       "</table>\n",
       "</div>"
      ],
      "text/plain": [
       "                0            1\n",
       "count   10.000000    10.000000\n",
       "mean   170.500000  1156.100000\n",
       "std    167.732095  2162.297978\n",
       "min     25.000000    27.000000\n",
       "25%     64.750000    68.750000\n",
       "50%     89.000000   105.000000\n",
       "75%    218.000000   314.750000\n",
       "max    531.000000  5277.000000"
      ]
     },
     "execution_count": 42,
     "metadata": {},
     "output_type": "execute_result"
    }
   ],
   "source": [
    "p.describe()"
   ]
  },
  {
   "cell_type": "code",
   "execution_count": 40,
   "id": "40030f4b-2981-4614-acfa-468e97f01628",
   "metadata": {},
   "outputs": [
    {
     "data": {
      "application/vnd.plotly.v1+json": {
       "config": {
        "plotlyServerURL": "https://plot.ly"
       },
       "data": [
        {
         "hovertemplate": "0=%{x}<br>1=%{y}<extra></extra>",
         "legendgroup": "",
         "marker": {
          "color": "#636efa",
          "size": 10,
          "symbol": "circle"
         },
         "mode": "markers",
         "name": "",
         "orientation": "v",
         "showlegend": false,
         "type": "scatter",
         "x": [
          512.4705418846397,
          846.2545417169349,
          1415.779834032216,
          3595.3790319394357,
          7722.641002985423,
          1261.4669409604692,
          1490.449382232775,
          2082.4895122239536,
          4622.3001264139575,
          10627.26109307586
         ],
         "xaxis": "x",
         "y": [
          545.0031322402285,
          1357.4384857310943,
          1487.983252193535,
          5805.53394245627,
          104654.44221861291,
          1221.0479924892672,
          2042.4799654582039,
          2163.2593047160126,
          6469.631401234436,
          105543.21180155566
         ],
         "yaxis": "y"
        }
       ],
       "layout": {
        "height": 360,
        "legend": {
         "tracegroupgap": 0
        },
        "margin": {
         "b": 0,
         "l": 0,
         "r": 0,
         "t": 0
        },
        "template": {
         "data": {
          "bar": [
           {
            "error_x": {
             "color": "#2a3f5f"
            },
            "error_y": {
             "color": "#2a3f5f"
            },
            "marker": {
             "line": {
              "color": "#E5ECF6",
              "width": 0.5
             },
             "pattern": {
              "fillmode": "overlay",
              "size": 10,
              "solidity": 0.2
             }
            },
            "type": "bar"
           }
          ],
          "barpolar": [
           {
            "marker": {
             "line": {
              "color": "#E5ECF6",
              "width": 0.5
             },
             "pattern": {
              "fillmode": "overlay",
              "size": 10,
              "solidity": 0.2
             }
            },
            "type": "barpolar"
           }
          ],
          "carpet": [
           {
            "aaxis": {
             "endlinecolor": "#2a3f5f",
             "gridcolor": "white",
             "linecolor": "white",
             "minorgridcolor": "white",
             "startlinecolor": "#2a3f5f"
            },
            "baxis": {
             "endlinecolor": "#2a3f5f",
             "gridcolor": "white",
             "linecolor": "white",
             "minorgridcolor": "white",
             "startlinecolor": "#2a3f5f"
            },
            "type": "carpet"
           }
          ],
          "choropleth": [
           {
            "colorbar": {
             "outlinewidth": 0,
             "ticks": ""
            },
            "type": "choropleth"
           }
          ],
          "contour": [
           {
            "colorbar": {
             "outlinewidth": 0,
             "ticks": ""
            },
            "colorscale": [
             [
              0,
              "#0d0887"
             ],
             [
              0.1111111111111111,
              "#46039f"
             ],
             [
              0.2222222222222222,
              "#7201a8"
             ],
             [
              0.3333333333333333,
              "#9c179e"
             ],
             [
              0.4444444444444444,
              "#bd3786"
             ],
             [
              0.5555555555555556,
              "#d8576b"
             ],
             [
              0.6666666666666666,
              "#ed7953"
             ],
             [
              0.7777777777777778,
              "#fb9f3a"
             ],
             [
              0.8888888888888888,
              "#fdca26"
             ],
             [
              1,
              "#f0f921"
             ]
            ],
            "type": "contour"
           }
          ],
          "contourcarpet": [
           {
            "colorbar": {
             "outlinewidth": 0,
             "ticks": ""
            },
            "type": "contourcarpet"
           }
          ],
          "heatmap": [
           {
            "colorbar": {
             "outlinewidth": 0,
             "ticks": ""
            },
            "colorscale": [
             [
              0,
              "#0d0887"
             ],
             [
              0.1111111111111111,
              "#46039f"
             ],
             [
              0.2222222222222222,
              "#7201a8"
             ],
             [
              0.3333333333333333,
              "#9c179e"
             ],
             [
              0.4444444444444444,
              "#bd3786"
             ],
             [
              0.5555555555555556,
              "#d8576b"
             ],
             [
              0.6666666666666666,
              "#ed7953"
             ],
             [
              0.7777777777777778,
              "#fb9f3a"
             ],
             [
              0.8888888888888888,
              "#fdca26"
             ],
             [
              1,
              "#f0f921"
             ]
            ],
            "type": "heatmap"
           }
          ],
          "heatmapgl": [
           {
            "colorbar": {
             "outlinewidth": 0,
             "ticks": ""
            },
            "colorscale": [
             [
              0,
              "#0d0887"
             ],
             [
              0.1111111111111111,
              "#46039f"
             ],
             [
              0.2222222222222222,
              "#7201a8"
             ],
             [
              0.3333333333333333,
              "#9c179e"
             ],
             [
              0.4444444444444444,
              "#bd3786"
             ],
             [
              0.5555555555555556,
              "#d8576b"
             ],
             [
              0.6666666666666666,
              "#ed7953"
             ],
             [
              0.7777777777777778,
              "#fb9f3a"
             ],
             [
              0.8888888888888888,
              "#fdca26"
             ],
             [
              1,
              "#f0f921"
             ]
            ],
            "type": "heatmapgl"
           }
          ],
          "histogram": [
           {
            "marker": {
             "pattern": {
              "fillmode": "overlay",
              "size": 10,
              "solidity": 0.2
             }
            },
            "type": "histogram"
           }
          ],
          "histogram2d": [
           {
            "colorbar": {
             "outlinewidth": 0,
             "ticks": ""
            },
            "colorscale": [
             [
              0,
              "#0d0887"
             ],
             [
              0.1111111111111111,
              "#46039f"
             ],
             [
              0.2222222222222222,
              "#7201a8"
             ],
             [
              0.3333333333333333,
              "#9c179e"
             ],
             [
              0.4444444444444444,
              "#bd3786"
             ],
             [
              0.5555555555555556,
              "#d8576b"
             ],
             [
              0.6666666666666666,
              "#ed7953"
             ],
             [
              0.7777777777777778,
              "#fb9f3a"
             ],
             [
              0.8888888888888888,
              "#fdca26"
             ],
             [
              1,
              "#f0f921"
             ]
            ],
            "type": "histogram2d"
           }
          ],
          "histogram2dcontour": [
           {
            "colorbar": {
             "outlinewidth": 0,
             "ticks": ""
            },
            "colorscale": [
             [
              0,
              "#0d0887"
             ],
             [
              0.1111111111111111,
              "#46039f"
             ],
             [
              0.2222222222222222,
              "#7201a8"
             ],
             [
              0.3333333333333333,
              "#9c179e"
             ],
             [
              0.4444444444444444,
              "#bd3786"
             ],
             [
              0.5555555555555556,
              "#d8576b"
             ],
             [
              0.6666666666666666,
              "#ed7953"
             ],
             [
              0.7777777777777778,
              "#fb9f3a"
             ],
             [
              0.8888888888888888,
              "#fdca26"
             ],
             [
              1,
              "#f0f921"
             ]
            ],
            "type": "histogram2dcontour"
           }
          ],
          "mesh3d": [
           {
            "colorbar": {
             "outlinewidth": 0,
             "ticks": ""
            },
            "type": "mesh3d"
           }
          ],
          "parcoords": [
           {
            "line": {
             "colorbar": {
              "outlinewidth": 0,
              "ticks": ""
             }
            },
            "type": "parcoords"
           }
          ],
          "pie": [
           {
            "automargin": true,
            "type": "pie"
           }
          ],
          "scatter": [
           {
            "fillpattern": {
             "fillmode": "overlay",
             "size": 10,
             "solidity": 0.2
            },
            "type": "scatter"
           }
          ],
          "scatter3d": [
           {
            "line": {
             "colorbar": {
              "outlinewidth": 0,
              "ticks": ""
             }
            },
            "marker": {
             "colorbar": {
              "outlinewidth": 0,
              "ticks": ""
             }
            },
            "type": "scatter3d"
           }
          ],
          "scattercarpet": [
           {
            "marker": {
             "colorbar": {
              "outlinewidth": 0,
              "ticks": ""
             }
            },
            "type": "scattercarpet"
           }
          ],
          "scattergeo": [
           {
            "marker": {
             "colorbar": {
              "outlinewidth": 0,
              "ticks": ""
             }
            },
            "type": "scattergeo"
           }
          ],
          "scattergl": [
           {
            "marker": {
             "colorbar": {
              "outlinewidth": 0,
              "ticks": ""
             }
            },
            "type": "scattergl"
           }
          ],
          "scattermapbox": [
           {
            "marker": {
             "colorbar": {
              "outlinewidth": 0,
              "ticks": ""
             }
            },
            "type": "scattermapbox"
           }
          ],
          "scatterpolar": [
           {
            "marker": {
             "colorbar": {
              "outlinewidth": 0,
              "ticks": ""
             }
            },
            "type": "scatterpolar"
           }
          ],
          "scatterpolargl": [
           {
            "marker": {
             "colorbar": {
              "outlinewidth": 0,
              "ticks": ""
             }
            },
            "type": "scatterpolargl"
           }
          ],
          "scatterternary": [
           {
            "marker": {
             "colorbar": {
              "outlinewidth": 0,
              "ticks": ""
             }
            },
            "type": "scatterternary"
           }
          ],
          "surface": [
           {
            "colorbar": {
             "outlinewidth": 0,
             "ticks": ""
            },
            "colorscale": [
             [
              0,
              "#0d0887"
             ],
             [
              0.1111111111111111,
              "#46039f"
             ],
             [
              0.2222222222222222,
              "#7201a8"
             ],
             [
              0.3333333333333333,
              "#9c179e"
             ],
             [
              0.4444444444444444,
              "#bd3786"
             ],
             [
              0.5555555555555556,
              "#d8576b"
             ],
             [
              0.6666666666666666,
              "#ed7953"
             ],
             [
              0.7777777777777778,
              "#fb9f3a"
             ],
             [
              0.8888888888888888,
              "#fdca26"
             ],
             [
              1,
              "#f0f921"
             ]
            ],
            "type": "surface"
           }
          ],
          "table": [
           {
            "cells": {
             "fill": {
              "color": "#EBF0F8"
             },
             "line": {
              "color": "white"
             }
            },
            "header": {
             "fill": {
              "color": "#C8D4E3"
             },
             "line": {
              "color": "white"
             }
            },
            "type": "table"
           }
          ]
         },
         "layout": {
          "annotationdefaults": {
           "arrowcolor": "#2a3f5f",
           "arrowhead": 0,
           "arrowwidth": 1
          },
          "autotypenumbers": "strict",
          "coloraxis": {
           "colorbar": {
            "outlinewidth": 0,
            "ticks": ""
           }
          },
          "colorscale": {
           "diverging": [
            [
             0,
             "#8e0152"
            ],
            [
             0.1,
             "#c51b7d"
            ],
            [
             0.2,
             "#de77ae"
            ],
            [
             0.3,
             "#f1b6da"
            ],
            [
             0.4,
             "#fde0ef"
            ],
            [
             0.5,
             "#f7f7f7"
            ],
            [
             0.6,
             "#e6f5d0"
            ],
            [
             0.7,
             "#b8e186"
            ],
            [
             0.8,
             "#7fbc41"
            ],
            [
             0.9,
             "#4d9221"
            ],
            [
             1,
             "#276419"
            ]
           ],
           "sequential": [
            [
             0,
             "#0d0887"
            ],
            [
             0.1111111111111111,
             "#46039f"
            ],
            [
             0.2222222222222222,
             "#7201a8"
            ],
            [
             0.3333333333333333,
             "#9c179e"
            ],
            [
             0.4444444444444444,
             "#bd3786"
            ],
            [
             0.5555555555555556,
             "#d8576b"
            ],
            [
             0.6666666666666666,
             "#ed7953"
            ],
            [
             0.7777777777777778,
             "#fb9f3a"
            ],
            [
             0.8888888888888888,
             "#fdca26"
            ],
            [
             1,
             "#f0f921"
            ]
           ],
           "sequentialminus": [
            [
             0,
             "#0d0887"
            ],
            [
             0.1111111111111111,
             "#46039f"
            ],
            [
             0.2222222222222222,
             "#7201a8"
            ],
            [
             0.3333333333333333,
             "#9c179e"
            ],
            [
             0.4444444444444444,
             "#bd3786"
            ],
            [
             0.5555555555555556,
             "#d8576b"
            ],
            [
             0.6666666666666666,
             "#ed7953"
            ],
            [
             0.7777777777777778,
             "#fb9f3a"
            ],
            [
             0.8888888888888888,
             "#fdca26"
            ],
            [
             1,
             "#f0f921"
            ]
           ]
          },
          "colorway": [
           "#636efa",
           "#EF553B",
           "#00cc96",
           "#ab63fa",
           "#FFA15A",
           "#19d3f3",
           "#FF6692",
           "#B6E880",
           "#FF97FF",
           "#FECB52"
          ],
          "font": {
           "color": "#2a3f5f"
          },
          "geo": {
           "bgcolor": "white",
           "lakecolor": "white",
           "landcolor": "#E5ECF6",
           "showlakes": true,
           "showland": true,
           "subunitcolor": "white"
          },
          "hoverlabel": {
           "align": "left"
          },
          "hovermode": "closest",
          "mapbox": {
           "style": "light"
          },
          "paper_bgcolor": "white",
          "plot_bgcolor": "#E5ECF6",
          "polar": {
           "angularaxis": {
            "gridcolor": "white",
            "linecolor": "white",
            "ticks": ""
           },
           "bgcolor": "#E5ECF6",
           "radialaxis": {
            "gridcolor": "white",
            "linecolor": "white",
            "ticks": ""
           }
          },
          "scene": {
           "xaxis": {
            "backgroundcolor": "#E5ECF6",
            "gridcolor": "white",
            "gridwidth": 2,
            "linecolor": "white",
            "showbackground": true,
            "ticks": "",
            "zerolinecolor": "white"
           },
           "yaxis": {
            "backgroundcolor": "#E5ECF6",
            "gridcolor": "white",
            "gridwidth": 2,
            "linecolor": "white",
            "showbackground": true,
            "ticks": "",
            "zerolinecolor": "white"
           },
           "zaxis": {
            "backgroundcolor": "#E5ECF6",
            "gridcolor": "white",
            "gridwidth": 2,
            "linecolor": "white",
            "showbackground": true,
            "ticks": "",
            "zerolinecolor": "white"
           }
          },
          "shapedefaults": {
           "line": {
            "color": "#2a3f5f"
           }
          },
          "ternary": {
           "aaxis": {
            "gridcolor": "white",
            "linecolor": "white",
            "ticks": ""
           },
           "baxis": {
            "gridcolor": "white",
            "linecolor": "white",
            "ticks": ""
           },
           "bgcolor": "#E5ECF6",
           "caxis": {
            "gridcolor": "white",
            "linecolor": "white",
            "ticks": ""
           }
          },
          "title": {
           "x": 0.05
          },
          "xaxis": {
           "automargin": true,
           "gridcolor": "white",
           "linecolor": "white",
           "ticks": "",
           "title": {
            "standoff": 15
           },
           "zerolinecolor": "white",
           "zerolinewidth": 2
          },
          "yaxis": {
           "automargin": true,
           "gridcolor": "white",
           "linecolor": "white",
           "ticks": "",
           "title": {
            "standoff": 15
           },
           "zerolinecolor": "white",
           "zerolinewidth": 2
          }
         }
        },
        "width": 400,
        "xaxis": {
         "anchor": "y",
         "autorange": true,
         "domain": [
          0,
          1
         ],
         "range": [
          -285.8863696785852,
          11425.618004639085
         ],
         "title": {
          "text": "0"
         },
         "type": "linear"
        },
        "yaxis": {
         "anchor": "x",
         "autorange": true,
         "domain": [
          0,
          1
         ],
         "range": [
          -7934.888493503031,
          114023.10342729892
         ],
         "title": {
          "text": "1"
         },
         "type": "linear"
        }
       }
      },
      "image/png": "[encoded data removed]",
      "text/html": [
       "<div>                            <div id=\"e815c811-5b9e-436d-a1a9-e0fee2caa53b\" class=\"plotly-graph-div\" style=\"height:525px; width:400px;\"></div>            <script type=\"text/javascript\">                require([\"plotly\"], function(Plotly) {                    window.PLOTLYENV=window.PLOTLYENV || {};                                    if (document.getElementById(\"e815c811-5b9e-436d-a1a9-e0fee2caa53b\")) {                    Plotly.newPlot(                        \"e815c811-5b9e-436d-a1a9-e0fee2caa53b\",                        [{\"hovertemplate\":\"0=%{x}\\u003cbr\\u003e1=%{y}\\u003cextra\\u003e\\u003c\\u002fextra\\u003e\",\"legendgroup\":\"\",\"marker\":{\"color\":\"#636efa\",\"symbol\":\"circle\",\"size\":10},\"mode\":\"markers\",\"name\":\"\",\"orientation\":\"v\",\"showlegend\":false,\"x\":[512.4705418846397,846.2545417169349,1415.779834032216,3595.3790319394357,7722.641002985423,1261.4669409604692,1490.449382232775,2082.4895122239536,4622.3001264139575,10627.26109307586],\"xaxis\":\"x\",\"y\":[545.0031322402285,1357.4384857310943,1487.983252193535,5805.53394245627,104654.44221861291,1221.0479924892672,2042.4799654582039,2163.2593047160126,6469.631401234436,105543.21180155566],\"yaxis\":\"y\",\"type\":\"scatter\"}],                        {\"template\":{\"data\":{\"histogram2dcontour\":[{\"type\":\"histogram2dcontour\",\"colorbar\":{\"outlinewidth\":0,\"ticks\":\"\"},\"colorscale\":[[0.0,\"#0d0887\"],[0.1111111111111111,\"#46039f\"],[0.2222222222222222,\"#7201a8\"],[0.3333333333333333,\"#9c179e\"],[0.4444444444444444,\"#bd3786\"],[0.5555555555555556,\"#d8576b\"],[0.6666666666666666,\"#ed7953\"],[0.7777777777777778,\"#fb9f3a\"],[0.8888888888888888,\"#fdca26\"],[1.0,\"#f0f921\"]]}],\"choropleth\":[{\"type\":\"choropleth\",\"colorbar\":{\"outlinewidth\":0,\"ticks\":\"\"}}],\"histogram2d\":[{\"type\":\"histogram2d\",\"colorbar\":{\"outlinewidth\":0,\"ticks\":\"\"},\"colorscale\":[[0.0,\"#0d0887\"],[0.1111111111111111,\"#46039f\"],[0.2222222222222222,\"#7201a8\"],[0.3333333333333333,\"#9c179e\"],[0.4444444444444444,\"#bd3786\"],[0.5555555555555556,\"#d8576b\"],[0.6666666666666666,\"#ed7953\"],[0.7777777777777778,\"#fb9f3a\"],[0.8888888888888888,\"#fdca26\"],[1.0,\"#f0f921\"]]}],\"heatmap\":[{\"type\":\"heatmap\",\"colorbar\":{\"outlinewidth\":0,\"ticks\":\"\"},\"colorscale\":[[0.0,\"#0d0887\"],[0.1111111111111111,\"#46039f\"],[0.2222222222222222,\"#7201a8\"],[0.3333333333333333,\"#9c179e\"],[0.4444444444444444,\"#bd3786\"],[0.5555555555555556,\"#d8576b\"],[0.6666666666666666,\"#ed7953\"],[0.7777777777777778,\"#fb9f3a\"],[0.8888888888888888,\"#fdca26\"],[1.0,\"#f0f921\"]]}],\"heatmapgl\":[{\"type\":\"heatmapgl\",\"colorbar\":{\"outlinewidth\":0,\"ticks\":\"\"},\"colorscale\":[[0.0,\"#0d0887\"],[0.1111111111111111,\"#46039f\"],[0.2222222222222222,\"#7201a8\"],[0.3333333333333333,\"#9c179e\"],[0.4444444444444444,\"#bd3786\"],[0.5555555555555556,\"#d8576b\"],[0.6666666666666666,\"#ed7953\"],[0.7777777777777778,\"#fb9f3a\"],[0.8888888888888888,\"#fdca26\"],[1.0,\"#f0f921\"]]}],\"contourcarpet\":[{\"type\":\"contourcarpet\",\"colorbar\":{\"outlinewidth\":0,\"ticks\":\"\"}}],\"contour\":[{\"type\":\"contour\",\"colorbar\":{\"outlinewidth\":0,\"ticks\":\"\"},\"colorscale\":[[0.0,\"#0d0887\"],[0.1111111111111111,\"#46039f\"],[0.2222222222222222,\"#7201a8\"],[0.3333333333333333,\"#9c179e\"],[0.4444444444444444,\"#bd3786\"],[0.5555555555555556,\"#d8576b\"],[0.6666666666666666,\"#ed7953\"],[0.7777777777777778,\"#fb9f3a\"],[0.8888888888888888,\"#fdca26\"],[1.0,\"#f0f921\"]]}],\"surface\":[{\"type\":\"surface\",\"colorbar\":{\"outlinewidth\":0,\"ticks\":\"\"},\"colorscale\":[[0.0,\"#0d0887\"],[0.1111111111111111,\"#46039f\"],[0.2222222222222222,\"#7201a8\"],[0.3333333333333333,\"#9c179e\"],[0.4444444444444444,\"#bd3786\"],[0.5555555555555556,\"#d8576b\"],[0.6666666666666666,\"#ed7953\"],[0.7777777777777778,\"#fb9f3a\"],[0.8888888888888888,\"#fdca26\"],[1.0,\"#f0f921\"]]}],\"mesh3d\":[{\"type\":\"mesh3d\",\"colorbar\":{\"outlinewidth\":0,\"ticks\":\"\"}}],\"scatter\":[{\"fillpattern\":{\"fillmode\":\"overlay\",\"size\":10,\"solidity\":0.2},\"type\":\"scatter\"}],\"parcoords\":[{\"type\":\"parcoords\",\"line\":{\"colorbar\":{\"outlinewidth\":0,\"ticks\":\"\"}}}],\"scatterpolargl\":[{\"type\":\"scatterpolargl\",\"marker\":{\"colorbar\":{\"outlinewidth\":0,\"ticks\":\"\"}}}],\"bar\":[{\"error_x\":{\"color\":\"#2a3f5f\"},\"error_y\":{\"color\":\"#2a3f5f\"},\"marker\":{\"line\":{\"color\":\"#E5ECF6\",\"width\":0.5},\"pattern\":{\"fillmode\":\"overlay\",\"size\":10,\"solidity\":0.2}},\"type\":\"bar\"}],\"scattergeo\":[{\"type\":\"scattergeo\",\"marker\":{\"colorbar\":{\"outlinewidth\":0,\"ticks\":\"\"}}}],\"scatterpolar\":[{\"type\":\"scatterpolar\",\"marker\":{\"colorbar\":{\"outlinewidth\":0,\"ticks\":\"\"}}}],\"histogram\":[{\"marker\":{\"pattern\":{\"fillmode\":\"overlay\",\"size\":10,\"solidity\":0.2}},\"type\":\"histogram\"}],\"scattergl\":[{\"type\":\"scattergl\",\"marker\":{\"colorbar\":{\"outlinewidth\":0,\"ticks\":\"\"}}}],\"scatter3d\":[{\"type\":\"scatter3d\",\"line\":{\"colorbar\":{\"outlinewidth\":0,\"ticks\":\"\"}},\"marker\":{\"colorbar\":{\"outlinewidth\":0,\"ticks\":\"\"}}}],\"scattermapbox\":[{\"type\":\"scattermapbox\",\"marker\":{\"colorbar\":{\"outlinewidth\":0,\"ticks\":\"\"}}}],\"scatterternary\":[{\"type\":\"scatterternary\",\"marker\":{\"colorbar\":{\"outlinewidth\":0,\"ticks\":\"\"}}}],\"scattercarpet\":[{\"type\":\"scattercarpet\",\"marker\":{\"colorbar\":{\"outlinewidth\":0,\"ticks\":\"\"}}}],\"carpet\":[{\"aaxis\":{\"endlinecolor\":\"#2a3f5f\",\"gridcolor\":\"white\",\"linecolor\":\"white\",\"minorgridcolor\":\"white\",\"startlinecolor\":\"#2a3f5f\"},\"baxis\":{\"endlinecolor\":\"#2a3f5f\",\"gridcolor\":\"white\",\"linecolor\":\"white\",\"minorgridcolor\":\"white\",\"startlinecolor\":\"#2a3f5f\"},\"type\":\"carpet\"}],\"table\":[{\"cells\":{\"fill\":{\"color\":\"#EBF0F8\"},\"line\":{\"color\":\"white\"}},\"header\":{\"fill\":{\"color\":\"#C8D4E3\"},\"line\":{\"color\":\"white\"}},\"type\":\"table\"}],\"barpolar\":[{\"marker\":{\"line\":{\"color\":\"#E5ECF6\",\"width\":0.5},\"pattern\":{\"fillmode\":\"overlay\",\"size\":10,\"solidity\":0.2}},\"type\":\"barpolar\"}],\"pie\":[{\"automargin\":true,\"type\":\"pie\"}]},\"layout\":{\"autotypenumbers\":\"strict\",\"colorway\":[\"#636efa\",\"#EF553B\",\"#00cc96\",\"#ab63fa\",\"#FFA15A\",\"#19d3f3\",\"#FF6692\",\"#B6E880\",\"#FF97FF\",\"#FECB52\"],\"font\":{\"color\":\"#2a3f5f\"},\"hovermode\":\"closest\",\"hoverlabel\":{\"align\":\"left\"},\"paper_bgcolor\":\"white\",\"plot_bgcolor\":\"#E5ECF6\",\"polar\":{\"bgcolor\":\"#E5ECF6\",\"angularaxis\":{\"gridcolor\":\"white\",\"linecolor\":\"white\",\"ticks\":\"\"},\"radialaxis\":{\"gridcolor\":\"white\",\"linecolor\":\"white\",\"ticks\":\"\"}},\"ternary\":{\"bgcolor\":\"#E5ECF6\",\"aaxis\":{\"gridcolor\":\"white\",\"linecolor\":\"white\",\"ticks\":\"\"},\"baxis\":{\"gridcolor\":\"white\",\"linecolor\":\"white\",\"ticks\":\"\"},\"caxis\":{\"gridcolor\":\"white\",\"linecolor\":\"white\",\"ticks\":\"\"}},\"coloraxis\":{\"colorbar\":{\"outlinewidth\":0,\"ticks\":\"\"}},\"colorscale\":{\"sequential\":[[0.0,\"#0d0887\"],[0.1111111111111111,\"#46039f\"],[0.2222222222222222,\"#7201a8\"],[0.3333333333333333,\"#9c179e\"],[0.4444444444444444,\"#bd3786\"],[0.5555555555555556,\"#d8576b\"],[0.6666666666666666,\"#ed7953\"],[0.7777777777777778,\"#fb9f3a\"],[0.8888888888888888,\"#fdca26\"],[1.0,\"#f0f921\"]],\"sequentialminus\":[[0.0,\"#0d0887\"],[0.1111111111111111,\"#46039f\"],[0.2222222222222222,\"#7201a8\"],[0.3333333333333333,\"#9c179e\"],[0.4444444444444444,\"#bd3786\"],[0.5555555555555556,\"#d8576b\"],[0.6666666666666666,\"#ed7953\"],[0.7777777777777778,\"#fb9f3a\"],[0.8888888888888888,\"#fdca26\"],[1.0,\"#f0f921\"]],\"diverging\":[[0,\"#8e0152\"],[0.1,\"#c51b7d\"],[0.2,\"#de77ae\"],[0.3,\"#f1b6da\"],[0.4,\"#fde0ef\"],[0.5,\"#f7f7f7\"],[0.6,\"#e6f5d0\"],[0.7,\"#b8e186\"],[0.8,\"#7fbc41\"],[0.9,\"#4d9221\"],[1,\"#276419\"]]},\"xaxis\":{\"gridcolor\":\"white\",\"linecolor\":\"white\",\"ticks\":\"\",\"title\":{\"standoff\":15},\"zerolinecolor\":\"white\",\"automargin\":true,\"zerolinewidth\":2},\"yaxis\":{\"gridcolor\":\"white\",\"linecolor\":\"white\",\"ticks\":\"\",\"title\":{\"standoff\":15},\"zerolinecolor\":\"white\",\"automargin\":true,\"zerolinewidth\":2},\"scene\":{\"xaxis\":{\"backgroundcolor\":\"#E5ECF6\",\"gridcolor\":\"white\",\"linecolor\":\"white\",\"showbackground\":true,\"ticks\":\"\",\"zerolinecolor\":\"white\",\"gridwidth\":2},\"yaxis\":{\"backgroundcolor\":\"#E5ECF6\",\"gridcolor\":\"white\",\"linecolor\":\"white\",\"showbackground\":true,\"ticks\":\"\",\"zerolinecolor\":\"white\",\"gridwidth\":2},\"zaxis\":{\"backgroundcolor\":\"#E5ECF6\",\"gridcolor\":\"white\",\"linecolor\":\"white\",\"showbackground\":true,\"ticks\":\"\",\"zerolinecolor\":\"white\",\"gridwidth\":2}},\"shapedefaults\":{\"line\":{\"color\":\"#2a3f5f\"}},\"annotationdefaults\":{\"arrowcolor\":\"#2a3f5f\",\"arrowhead\":0,\"arrowwidth\":1},\"geo\":{\"bgcolor\":\"white\",\"landcolor\":\"#E5ECF6\",\"subunitcolor\":\"white\",\"showland\":true,\"showlakes\":true,\"lakecolor\":\"white\"},\"title\":{\"x\":0.05},\"mapbox\":{\"style\":\"light\"}}},\"xaxis\":{\"anchor\":\"y\",\"domain\":[0.0,1.0],\"title\":{\"text\":\"0\"}},\"yaxis\":{\"anchor\":\"x\",\"domain\":[0.0,1.0],\"title\":{\"text\":\"1\"}},\"legend\":{\"tracegroupgap\":0},\"margin\":{\"t\":0,\"l\":0,\"r\":0,\"b\":0},\"width\":400},                        {\"responsive\": true}                    ).then(function(){\n",
       "                            \n",
       "var gd = document.getElementById('e815c811-5b9e-436d-a1a9-e0fee2caa53b');\n",
       "var x = new MutationObserver(function (mutations, observer) {{\n",
       "        var display = window.getComputedStyle(gd).display;\n",
       "        if (!display || display === 'none') {{\n",
       "            console.log([gd, 'removed!']);\n",
       "            Plotly.purge(gd);\n",
       "            observer.disconnect();\n",
       "        }}\n",
       "}});\n",
       "\n",
       "// Listen for the removal of the full notebook cells\n",
       "var notebookContainer = gd.closest('#notebook-container');\n",
       "if (notebookContainer) {{\n",
       "    x.observe(notebookContainer, {childList: true});\n",
       "}}\n",
       "\n",
       "// Listen for the clearing of the current output cell\n",
       "var outputEl = gd.closest('.output');\n",
       "if (outputEl) {{\n",
       "    x.observe(outputEl, {childList: true});\n",
       "}}\n",
       "\n",
       "                        })                };                });            </script>        </div>"
      ]
     },
     "metadata": {},
     "output_type": "display_data"
    }
   ],
   "source": [
    "fig = px.scatter(dfs[0], x=0, y=1, \n",
    "                \n",
    "                   )\n",
    "\n",
    "fig.update_layout(margin=dict(l=0, r=0, b=0, t=0), width=400)\n",
    "fig.update_traces(marker_size=10)\n",
    "#fig.update_xaxes(range=[-12,12],  scaleratio=1,)\n",
    "#fig.update_yaxes(range=[-12,12],  scaleratio=1,)\n",
    "fig.show()"
   ]
  },
  {
   "cell_type": "code",
   "execution_count": 43,
   "id": "5acf08b5-8660-4d71-9e00-53374f9624d8",
   "metadata": {},
   "outputs": [
    {
     "data": {
      "application/vnd.plotly.v1+json": {
       "config": {
        "plotlyServerURL": "https://plot.ly"
       },
       "data": [
        {
         "hovertemplate": "0=%{x}<br>1=%{y}<extra></extra>",
         "legendgroup": "",
         "marker": {
          "color": "#636efa",
          "size": 10,
          "symbol": "circle"
         },
         "mode": "markers",
         "name": "",
         "orientation": "v",
         "showlegend": false,
         "type": "scatter",
         "x": [
          25,
          42,
          70,
          179,
          386,
          63,
          74,
          104,
          231,
          531
         ],
         "xaxis": "x",
         "y": [
          27,
          67,
          74,
          290,
          5232,
          61,
          102,
          108,
          323,
          5277
         ],
         "yaxis": "y"
        }
       ],
       "layout": {
        "height": 360,
        "legend": {
         "tracegroupgap": 0
        },
        "margin": {
         "b": 0,
         "l": 0,
         "r": 0,
         "t": 0
        },
        "template": {
         "data": {
          "bar": [
           {
            "error_x": {
             "color": "#2a3f5f"
            },
            "error_y": {
             "color": "#2a3f5f"
            },
            "marker": {
             "line": {
              "color": "#E5ECF6",
              "width": 0.5
             },
             "pattern": {
              "fillmode": "overlay",
              "size": 10,
              "solidity": 0.2
             }
            },
            "type": "bar"
           }
          ],
          "barpolar": [
           {
            "marker": {
             "line": {
              "color": "#E5ECF6",
              "width": 0.5
             },
             "pattern": {
              "fillmode": "overlay",
              "size": 10,
              "solidity": 0.2
             }
            },
            "type": "barpolar"
           }
          ],
          "carpet": [
           {
            "aaxis": {
             "endlinecolor": "#2a3f5f",
             "gridcolor": "white",
             "linecolor": "white",
             "minorgridcolor": "white",
             "startlinecolor": "#2a3f5f"
            },
            "baxis": {
             "endlinecolor": "#2a3f5f",
             "gridcolor": "white",
             "linecolor": "white",
             "minorgridcolor": "white",
             "startlinecolor": "#2a3f5f"
            },
            "type": "carpet"
           }
          ],
          "choropleth": [
           {
            "colorbar": {
             "outlinewidth": 0,
             "ticks": ""
            },
            "type": "choropleth"
           }
          ],
          "contour": [
           {
            "colorbar": {
             "outlinewidth": 0,
             "ticks": ""
            },
            "colorscale": [
             [
              0,
              "#0d0887"
             ],
             [
              0.1111111111111111,
              "#46039f"
             ],
             [
              0.2222222222222222,
              "#7201a8"
             ],
             [
              0.3333333333333333,
              "#9c179e"
             ],
             [
              0.4444444444444444,
              "#bd3786"
             ],
             [
              0.5555555555555556,
              "#d8576b"
             ],
             [
              0.6666666666666666,
              "#ed7953"
             ],
             [
              0.7777777777777778,
              "#fb9f3a"
             ],
             [
              0.8888888888888888,
              "#fdca26"
             ],
             [
              1,
              "#f0f921"
             ]
            ],
            "type": "contour"
           }
          ],
          "contourcarpet": [
           {
            "colorbar": {
             "outlinewidth": 0,
             "ticks": ""
            },
            "type": "contourcarpet"
           }
          ],
          "heatmap": [
           {
            "colorbar": {
             "outlinewidth": 0,
             "ticks": ""
            },
            "colorscale": [
             [
              0,
              "#0d0887"
             ],
             [
              0.1111111111111111,
              "#46039f"
             ],
             [
              0.2222222222222222,
              "#7201a8"
             ],
             [
              0.3333333333333333,
              "#9c179e"
             ],
             [
              0.4444444444444444,
              "#bd3786"
             ],
             [
              0.5555555555555556,
              "#d8576b"
             ],
             [
              0.6666666666666666,
              "#ed7953"
             ],
             [
              0.7777777777777778,
              "#fb9f3a"
             ],
             [
              0.8888888888888888,
              "#fdca26"
             ],
             [
              1,
              "#f0f921"
             ]
            ],
            "type": "heatmap"
           }
          ],
          "heatmapgl": [
           {
            "colorbar": {
             "outlinewidth": 0,
             "ticks": ""
            },
            "colorscale": [
             [
              0,
              "#0d0887"
             ],
             [
              0.1111111111111111,
              "#46039f"
             ],
             [
              0.2222222222222222,
              "#7201a8"
             ],
             [
              0.3333333333333333,
              "#9c179e"
             ],
             [
              0.4444444444444444,
              "#bd3786"
             ],
             [
              0.5555555555555556,
              "#d8576b"
             ],
             [
              0.6666666666666666,
              "#ed7953"
             ],
             [
              0.7777777777777778,
              "#fb9f3a"
             ],
             [
              0.8888888888888888,
              "#fdca26"
             ],
             [
              1,
              "#f0f921"
             ]
            ],
            "type": "heatmapgl"
           }
          ],
          "histogram": [
           {
            "marker": {
             "pattern": {
              "fillmode": "overlay",
              "size": 10,
              "solidity": 0.2
             }
            },
            "type": "histogram"
           }
          ],
          "histogram2d": [
           {
            "colorbar": {
             "outlinewidth": 0,
             "ticks": ""
            },
            "colorscale": [
             [
              0,
              "#0d0887"
             ],
             [
              0.1111111111111111,
              "#46039f"
             ],
             [
              0.2222222222222222,
              "#7201a8"
             ],
             [
              0.3333333333333333,
              "#9c179e"
             ],
             [
              0.4444444444444444,
              "#bd3786"
             ],
             [
              0.5555555555555556,
              "#d8576b"
             ],
             [
              0.6666666666666666,
              "#ed7953"
             ],
             [
              0.7777777777777778,
              "#fb9f3a"
             ],
             [
              0.8888888888888888,
              "#fdca26"
             ],
             [
              1,
              "#f0f921"
             ]
            ],
            "type": "histogram2d"
           }
          ],
          "histogram2dcontour": [
           {
            "colorbar": {
             "outlinewidth": 0,
             "ticks": ""
            },
            "colorscale": [
             [
              0,
              "#0d0887"
             ],
             [
              0.1111111111111111,
              "#46039f"
             ],
             [
              0.2222222222222222,
              "#7201a8"
             ],
             [
              0.3333333333333333,
              "#9c179e"
             ],
             [
              0.4444444444444444,
              "#bd3786"
             ],
             [
              0.5555555555555556,
              "#d8576b"
             ],
             [
              0.6666666666666666,
              "#ed7953"
             ],
             [
              0.7777777777777778,
              "#fb9f3a"
             ],
             [
              0.8888888888888888,
              "#fdca26"
             ],
             [
              1,
              "#f0f921"
             ]
            ],
            "type": "histogram2dcontour"
           }
          ],
          "mesh3d": [
           {
            "colorbar": {
             "outlinewidth": 0,
             "ticks": ""
            },
            "type": "mesh3d"
           }
          ],
          "parcoords": [
           {
            "line": {
             "colorbar": {
              "outlinewidth": 0,
              "ticks": ""
             }
            },
            "type": "parcoords"
           }
          ],
          "pie": [
           {
            "automargin": true,
            "type": "pie"
           }
          ],
          "scatter": [
           {
            "fillpattern": {
             "fillmode": "overlay",
             "size": 10,
             "solidity": 0.2
            },
            "type": "scatter"
           }
          ],
          "scatter3d": [
           {
            "line": {
             "colorbar": {
              "outlinewidth": 0,
              "ticks": ""
             }
            },
            "marker": {
             "colorbar": {
              "outlinewidth": 0,
              "ticks": ""
             }
            },
            "type": "scatter3d"
           }
          ],
          "scattercarpet": [
           {
            "marker": {
             "colorbar": {
              "outlinewidth": 0,
              "ticks": ""
             }
            },
            "type": "scattercarpet"
           }
          ],
          "scattergeo": [
           {
            "marker": {
             "colorbar": {
              "outlinewidth": 0,
              "ticks": ""
             }
            },
            "type": "scattergeo"
           }
          ],
          "scattergl": [
           {
            "marker": {
             "colorbar": {
              "outlinewidth": 0,
              "ticks": ""
             }
            },
            "type": "scattergl"
           }
          ],
          "scattermapbox": [
           {
            "marker": {
             "colorbar": {
              "outlinewidth": 0,
              "ticks": ""
             }
            },
            "type": "scattermapbox"
           }
          ],
          "scatterpolar": [
           {
            "marker": {
             "colorbar": {
              "outlinewidth": 0,
              "ticks": ""
             }
            },
            "type": "scatterpolar"
           }
          ],
          "scatterpolargl": [
           {
            "marker": {
             "colorbar": {
              "outlinewidth": 0,
              "ticks": ""
             }
            },
            "type": "scatterpolargl"
           }
          ],
          "scatterternary": [
           {
            "marker": {
             "colorbar": {
              "outlinewidth": 0,
              "ticks": ""
             }
            },
            "type": "scatterternary"
           }
          ],
          "surface": [
           {
            "colorbar": {
             "outlinewidth": 0,
             "ticks": ""
            },
            "colorscale": [
             [
              0,
              "#0d0887"
             ],
             [
              0.1111111111111111,
              "#46039f"
             ],
             [
              0.2222222222222222,
              "#7201a8"
             ],
             [
              0.3333333333333333,
              "#9c179e"
             ],
             [
              0.4444444444444444,
              "#bd3786"
             ],
             [
              0.5555555555555556,
              "#d8576b"
             ],
             [
              0.6666666666666666,
              "#ed7953"
             ],
             [
              0.7777777777777778,
              "#fb9f3a"
             ],
             [
              0.8888888888888888,
              "#fdca26"
             ],
             [
              1,
              "#f0f921"
             ]
            ],
            "type": "surface"
           }
          ],
          "table": [
           {
            "cells": {
             "fill": {
              "color": "#EBF0F8"
             },
             "line": {
              "color": "white"
             }
            },
            "header": {
             "fill": {
              "color": "#C8D4E3"
             },
             "line": {
              "color": "white"
             }
            },
            "type": "table"
           }
          ]
         },
         "layout": {
          "annotationdefaults": {
           "arrowcolor": "#2a3f5f",
           "arrowhead": 0,
           "arrowwidth": 1
          },
          "autotypenumbers": "strict",
          "coloraxis": {
           "colorbar": {
            "outlinewidth": 0,
            "ticks": ""
           }
          },
          "colorscale": {
           "diverging": [
            [
             0,
             "#8e0152"
            ],
            [
             0.1,
             "#c51b7d"
            ],
            [
             0.2,
             "#de77ae"
            ],
            [
             0.3,
             "#f1b6da"
            ],
            [
             0.4,
             "#fde0ef"
            ],
            [
             0.5,
             "#f7f7f7"
            ],
            [
             0.6,
             "#e6f5d0"
            ],
            [
             0.7,
             "#b8e186"
            ],
            [
             0.8,
             "#7fbc41"
            ],
            [
             0.9,
             "#4d9221"
            ],
            [
             1,
             "#276419"
            ]
           ],
           "sequential": [
            [
             0,
             "#0d0887"
            ],
            [
             0.1111111111111111,
             "#46039f"
            ],
            [
             0.2222222222222222,
             "#7201a8"
            ],
            [
             0.3333333333333333,
             "#9c179e"
            ],
            [
             0.4444444444444444,
             "#bd3786"
            ],
            [
             0.5555555555555556,
             "#d8576b"
            ],
            [
             0.6666666666666666,
             "#ed7953"
            ],
            [
             0.7777777777777778,
             "#fb9f3a"
            ],
            [
             0.8888888888888888,
             "#fdca26"
            ],
            [
             1,
             "#f0f921"
            ]
           ],
           "sequentialminus": [
            [
             0,
             "#0d0887"
            ],
            [
             0.1111111111111111,
             "#46039f"
            ],
            [
             0.2222222222222222,
             "#7201a8"
            ],
            [
             0.3333333333333333,
             "#9c179e"
            ],
            [
             0.4444444444444444,
             "#bd3786"
            ],
            [
             0.5555555555555556,
             "#d8576b"
            ],
            [
             0.6666666666666666,
             "#ed7953"
            ],
            [
             0.7777777777777778,
             "#fb9f3a"
            ],
            [
             0.8888888888888888,
             "#fdca26"
            ],
            [
             1,
             "#f0f921"
            ]
           ]
          },
          "colorway": [
           "#636efa",
           "#EF553B",
           "#00cc96",
           "#ab63fa",
           "#FFA15A",
           "#19d3f3",
           "#FF6692",
           "#B6E880",
           "#FF97FF",
           "#FECB52"
          ],
          "font": {
           "color": "#2a3f5f"
          },
          "geo": {
           "bgcolor": "white",
           "lakecolor": "white",
           "landcolor": "#E5ECF6",
           "showlakes": true,
           "showland": true,
           "subunitcolor": "white"
          },
          "hoverlabel": {
           "align": "left"
          },
          "hovermode": "closest",
          "mapbox": {
           "style": "light"
          },
          "paper_bgcolor": "white",
          "plot_bgcolor": "#E5ECF6",
          "polar": {
           "angularaxis": {
            "gridcolor": "white",
            "linecolor": "white",
            "ticks": ""
           },
           "bgcolor": "#E5ECF6",
           "radialaxis": {
            "gridcolor": "white",
            "linecolor": "white",
            "ticks": ""
           }
          },
          "scene": {
           "xaxis": {
            "backgroundcolor": "#E5ECF6",
            "gridcolor": "white",
            "gridwidth": 2,
            "linecolor": "white",
            "showbackground": true,
            "ticks": "",
            "zerolinecolor": "white"
           },
           "yaxis": {
            "backgroundcolor": "#E5ECF6",
            "gridcolor": "white",
            "gridwidth": 2,
            "linecolor": "white",
            "showbackground": true,
            "ticks": "",
            "zerolinecolor": "white"
           },
           "zaxis": {
            "backgroundcolor": "#E5ECF6",
            "gridcolor": "white",
            "gridwidth": 2,
            "linecolor": "white",
            "showbackground": true,
            "ticks": "",
            "zerolinecolor": "white"
           }
          },
          "shapedefaults": {
           "line": {
            "color": "#2a3f5f"
           }
          },
          "ternary": {
           "aaxis": {
            "gridcolor": "white",
            "linecolor": "white",
            "ticks": ""
           },
           "baxis": {
            "gridcolor": "white",
            "linecolor": "white",
            "ticks": ""
           },
           "bgcolor": "#E5ECF6",
           "caxis": {
            "gridcolor": "white",
            "linecolor": "white",
            "ticks": ""
           }
          },
          "title": {
           "x": 0.05
          },
          "xaxis": {
           "automargin": true,
           "gridcolor": "white",
           "linecolor": "white",
           "ticks": "",
           "title": {
            "standoff": 15
           },
           "zerolinecolor": "white",
           "zerolinewidth": 2
          },
          "yaxis": {
           "automargin": true,
           "gridcolor": "white",
           "linecolor": "white",
           "ticks": "",
           "title": {
            "standoff": 15
           },
           "zerolinecolor": "white",
           "zerolinewidth": 2
          }
         }
        },
        "width": 400,
        "xaxis": {
         "anchor": "y",
         "autorange": true,
         "domain": [
          0,
          1
         ],
         "range": [
          -14.938404577583306,
          570.9384045775834
         ],
         "title": {
          "text": "0"
         },
         "type": "linear"
        },
        "yaxis": {
         "anchor": "x",
         "autorange": true,
         "domain": [
          0,
          1
         ],
         "range": [
          -397.00181488203265,
          5701.001814882033
         ],
         "title": {
          "text": "1"
         },
         "type": "linear"
        }
       }
      },
      "image/png": "[encoded data removed]",
      "text/html": [
       "<div>                            <div id=\"fb5f3cac-26aa-4a26-8a33-d80fab025a2a\" class=\"plotly-graph-div\" style=\"height:525px; width:400px;\"></div>            <script type=\"text/javascript\">                require([\"plotly\"], function(Plotly) {                    window.PLOTLYENV=window.PLOTLYENV || {};                                    if (document.getElementById(\"fb5f3cac-26aa-4a26-8a33-d80fab025a2a\")) {                    Plotly.newPlot(                        \"fb5f3cac-26aa-4a26-8a33-d80fab025a2a\",                        [{\"hovertemplate\":\"0=%{x}\\u003cbr\\u003e1=%{y}\\u003cextra\\u003e\\u003c\\u002fextra\\u003e\",\"legendgroup\":\"\",\"marker\":{\"color\":\"#636efa\",\"symbol\":\"circle\",\"size\":10},\"mode\":\"markers\",\"name\":\"\",\"orientation\":\"v\",\"showlegend\":false,\"x\":[25,42,70,179,386,63,74,104,231,531],\"xaxis\":\"x\",\"y\":[27,67,74,290,5232,61,102,108,323,5277],\"yaxis\":\"y\",\"type\":\"scatter\"}],                        {\"template\":{\"data\":{\"histogram2dcontour\":[{\"type\":\"histogram2dcontour\",\"colorbar\":{\"outlinewidth\":0,\"ticks\":\"\"},\"colorscale\":[[0.0,\"#0d0887\"],[0.1111111111111111,\"#46039f\"],[0.2222222222222222,\"#7201a8\"],[0.3333333333333333,\"#9c179e\"],[0.4444444444444444,\"#bd3786\"],[0.5555555555555556,\"#d8576b\"],[0.6666666666666666,\"#ed7953\"],[0.7777777777777778,\"#fb9f3a\"],[0.8888888888888888,\"#fdca26\"],[1.0,\"#f0f921\"]]}],\"choropleth\":[{\"type\":\"choropleth\",\"colorbar\":{\"outlinewidth\":0,\"ticks\":\"\"}}],\"histogram2d\":[{\"type\":\"histogram2d\",\"colorbar\":{\"outlinewidth\":0,\"ticks\":\"\"},\"colorscale\":[[0.0,\"#0d0887\"],[0.1111111111111111,\"#46039f\"],[0.2222222222222222,\"#7201a8\"],[0.3333333333333333,\"#9c179e\"],[0.4444444444444444,\"#bd3786\"],[0.5555555555555556,\"#d8576b\"],[0.6666666666666666,\"#ed7953\"],[0.7777777777777778,\"#fb9f3a\"],[0.8888888888888888,\"#fdca26\"],[1.0,\"#f0f921\"]]}],\"heatmap\":[{\"type\":\"heatmap\",\"colorbar\":{\"outlinewidth\":0,\"ticks\":\"\"},\"colorscale\":[[0.0,\"#0d0887\"],[0.1111111111111111,\"#46039f\"],[0.2222222222222222,\"#7201a8\"],[0.3333333333333333,\"#9c179e\"],[0.4444444444444444,\"#bd3786\"],[0.5555555555555556,\"#d8576b\"],[0.6666666666666666,\"#ed7953\"],[0.7777777777777778,\"#fb9f3a\"],[0.8888888888888888,\"#fdca26\"],[1.0,\"#f0f921\"]]}],\"heatmapgl\":[{\"type\":\"heatmapgl\",\"colorbar\":{\"outlinewidth\":0,\"ticks\":\"\"},\"colorscale\":[[0.0,\"#0d0887\"],[0.1111111111111111,\"#46039f\"],[0.2222222222222222,\"#7201a8\"],[0.3333333333333333,\"#9c179e\"],[0.4444444444444444,\"#bd3786\"],[0.5555555555555556,\"#d8576b\"],[0.6666666666666666,\"#ed7953\"],[0.7777777777777778,\"#fb9f3a\"],[0.8888888888888888,\"#fdca26\"],[1.0,\"#f0f921\"]]}],\"contourcarpet\":[{\"type\":\"contourcarpet\",\"colorbar\":{\"outlinewidth\":0,\"ticks\":\"\"}}],\"contour\":[{\"type\":\"contour\",\"colorbar\":{\"outlinewidth\":0,\"ticks\":\"\"},\"colorscale\":[[0.0,\"#0d0887\"],[0.1111111111111111,\"#46039f\"],[0.2222222222222222,\"#7201a8\"],[0.3333333333333333,\"#9c179e\"],[0.4444444444444444,\"#bd3786\"],[0.5555555555555556,\"#d8576b\"],[0.6666666666666666,\"#ed7953\"],[0.7777777777777778,\"#fb9f3a\"],[0.8888888888888888,\"#fdca26\"],[1.0,\"#f0f921\"]]}],\"surface\":[{\"type\":\"surface\",\"colorbar\":{\"outlinewidth\":0,\"ticks\":\"\"},\"colorscale\":[[0.0,\"#0d0887\"],[0.1111111111111111,\"#46039f\"],[0.2222222222222222,\"#7201a8\"],[0.3333333333333333,\"#9c179e\"],[0.4444444444444444,\"#bd3786\"],[0.5555555555555556,\"#d8576b\"],[0.6666666666666666,\"#ed7953\"],[0.7777777777777778,\"#fb9f3a\"],[0.8888888888888888,\"#fdca26\"],[1.0,\"#f0f921\"]]}],\"mesh3d\":[{\"type\":\"mesh3d\",\"colorbar\":{\"outlinewidth\":0,\"ticks\":\"\"}}],\"scatter\":[{\"fillpattern\":{\"fillmode\":\"overlay\",\"size\":10,\"solidity\":0.2},\"type\":\"scatter\"}],\"parcoords\":[{\"type\":\"parcoords\",\"line\":{\"colorbar\":{\"outlinewidth\":0,\"ticks\":\"\"}}}],\"scatterpolargl\":[{\"type\":\"scatterpolargl\",\"marker\":{\"colorbar\":{\"outlinewidth\":0,\"ticks\":\"\"}}}],\"bar\":[{\"error_x\":{\"color\":\"#2a3f5f\"},\"error_y\":{\"color\":\"#2a3f5f\"},\"marker\":{\"line\":{\"color\":\"#E5ECF6\",\"width\":0.5},\"pattern\":{\"fillmode\":\"overlay\",\"size\":10,\"solidity\":0.2}},\"type\":\"bar\"}],\"scattergeo\":[{\"type\":\"scattergeo\",\"marker\":{\"colorbar\":{\"outlinewidth\":0,\"ticks\":\"\"}}}],\"scatterpolar\":[{\"type\":\"scatterpolar\",\"marker\":{\"colorbar\":{\"outlinewidth\":0,\"ticks\":\"\"}}}],\"histogram\":[{\"marker\":{\"pattern\":{\"fillmode\":\"overlay\",\"size\":10,\"solidity\":0.2}},\"type\":\"histogram\"}],\"scattergl\":[{\"type\":\"scattergl\",\"marker\":{\"colorbar\":{\"outlinewidth\":0,\"ticks\":\"\"}}}],\"scatter3d\":[{\"type\":\"scatter3d\",\"line\":{\"colorbar\":{\"outlinewidth\":0,\"ticks\":\"\"}},\"marker\":{\"colorbar\":{\"outlinewidth\":0,\"ticks\":\"\"}}}],\"scattermapbox\":[{\"type\":\"scattermapbox\",\"marker\":{\"colorbar\":{\"outlinewidth\":0,\"ticks\":\"\"}}}],\"scatterternary\":[{\"type\":\"scatterternary\",\"marker\":{\"colorbar\":{\"outlinewidth\":0,\"ticks\":\"\"}}}],\"scattercarpet\":[{\"type\":\"scattercarpet\",\"marker\":{\"colorbar\":{\"outlinewidth\":0,\"ticks\":\"\"}}}],\"carpet\":[{\"aaxis\":{\"endlinecolor\":\"#2a3f5f\",\"gridcolor\":\"white\",\"linecolor\":\"white\",\"minorgridcolor\":\"white\",\"startlinecolor\":\"#2a3f5f\"},\"baxis\":{\"endlinecolor\":\"#2a3f5f\",\"gridcolor\":\"white\",\"linecolor\":\"white\",\"minorgridcolor\":\"white\",\"startlinecolor\":\"#2a3f5f\"},\"type\":\"carpet\"}],\"table\":[{\"cells\":{\"fill\":{\"color\":\"#EBF0F8\"},\"line\":{\"color\":\"white\"}},\"header\":{\"fill\":{\"color\":\"#C8D4E3\"},\"line\":{\"color\":\"white\"}},\"type\":\"table\"}],\"barpolar\":[{\"marker\":{\"line\":{\"color\":\"#E5ECF6\",\"width\":0.5},\"pattern\":{\"fillmode\":\"overlay\",\"size\":10,\"solidity\":0.2}},\"type\":\"barpolar\"}],\"pie\":[{\"automargin\":true,\"type\":\"pie\"}]},\"layout\":{\"autotypenumbers\":\"strict\",\"colorway\":[\"#636efa\",\"#EF553B\",\"#00cc96\",\"#ab63fa\",\"#FFA15A\",\"#19d3f3\",\"#FF6692\",\"#B6E880\",\"#FF97FF\",\"#FECB52\"],\"font\":{\"color\":\"#2a3f5f\"},\"hovermode\":\"closest\",\"hoverlabel\":{\"align\":\"left\"},\"paper_bgcolor\":\"white\",\"plot_bgcolor\":\"#E5ECF6\",\"polar\":{\"bgcolor\":\"#E5ECF6\",\"angularaxis\":{\"gridcolor\":\"white\",\"linecolor\":\"white\",\"ticks\":\"\"},\"radialaxis\":{\"gridcolor\":\"white\",\"linecolor\":\"white\",\"ticks\":\"\"}},\"ternary\":{\"bgcolor\":\"#E5ECF6\",\"aaxis\":{\"gridcolor\":\"white\",\"linecolor\":\"white\",\"ticks\":\"\"},\"baxis\":{\"gridcolor\":\"white\",\"linecolor\":\"white\",\"ticks\":\"\"},\"caxis\":{\"gridcolor\":\"white\",\"linecolor\":\"white\",\"ticks\":\"\"}},\"coloraxis\":{\"colorbar\":{\"outlinewidth\":0,\"ticks\":\"\"}},\"colorscale\":{\"sequential\":[[0.0,\"#0d0887\"],[0.1111111111111111,\"#46039f\"],[0.2222222222222222,\"#7201a8\"],[0.3333333333333333,\"#9c179e\"],[0.4444444444444444,\"#bd3786\"],[0.5555555555555556,\"#d8576b\"],[0.6666666666666666,\"#ed7953\"],[0.7777777777777778,\"#fb9f3a\"],[0.8888888888888888,\"#fdca26\"],[1.0,\"#f0f921\"]],\"sequentialminus\":[[0.0,\"#0d0887\"],[0.1111111111111111,\"#46039f\"],[0.2222222222222222,\"#7201a8\"],[0.3333333333333333,\"#9c179e\"],[0.4444444444444444,\"#bd3786\"],[0.5555555555555556,\"#d8576b\"],[0.6666666666666666,\"#ed7953\"],[0.7777777777777778,\"#fb9f3a\"],[0.8888888888888888,\"#fdca26\"],[1.0,\"#f0f921\"]],\"diverging\":[[0,\"#8e0152\"],[0.1,\"#c51b7d\"],[0.2,\"#de77ae\"],[0.3,\"#f1b6da\"],[0.4,\"#fde0ef\"],[0.5,\"#f7f7f7\"],[0.6,\"#e6f5d0\"],[0.7,\"#b8e186\"],[0.8,\"#7fbc41\"],[0.9,\"#4d9221\"],[1,\"#276419\"]]},\"xaxis\":{\"gridcolor\":\"white\",\"linecolor\":\"white\",\"ticks\":\"\",\"title\":{\"standoff\":15},\"zerolinecolor\":\"white\",\"automargin\":true,\"zerolinewidth\":2},\"yaxis\":{\"gridcolor\":\"white\",\"linecolor\":\"white\",\"ticks\":\"\",\"title\":{\"standoff\":15},\"zerolinecolor\":\"white\",\"automargin\":true,\"zerolinewidth\":2},\"scene\":{\"xaxis\":{\"backgroundcolor\":\"#E5ECF6\",\"gridcolor\":\"white\",\"linecolor\":\"white\",\"showbackground\":true,\"ticks\":\"\",\"zerolinecolor\":\"white\",\"gridwidth\":2},\"yaxis\":{\"backgroundcolor\":\"#E5ECF6\",\"gridcolor\":\"white\",\"linecolor\":\"white\",\"showbackground\":true,\"ticks\":\"\",\"zerolinecolor\":\"white\",\"gridwidth\":2},\"zaxis\":{\"backgroundcolor\":\"#E5ECF6\",\"gridcolor\":\"white\",\"linecolor\":\"white\",\"showbackground\":true,\"ticks\":\"\",\"zerolinecolor\":\"white\",\"gridwidth\":2}},\"shapedefaults\":{\"line\":{\"color\":\"#2a3f5f\"}},\"annotationdefaults\":{\"arrowcolor\":\"#2a3f5f\",\"arrowhead\":0,\"arrowwidth\":1},\"geo\":{\"bgcolor\":\"white\",\"landcolor\":\"#E5ECF6\",\"subunitcolor\":\"white\",\"showland\":true,\"showlakes\":true,\"lakecolor\":\"white\"},\"title\":{\"x\":0.05},\"mapbox\":{\"style\":\"light\"}}},\"xaxis\":{\"anchor\":\"y\",\"domain\":[0.0,1.0],\"title\":{\"text\":\"0\"}},\"yaxis\":{\"anchor\":\"x\",\"domain\":[0.0,1.0],\"title\":{\"text\":\"1\"}},\"legend\":{\"tracegroupgap\":0},\"margin\":{\"t\":0,\"l\":0,\"r\":0,\"b\":0},\"width\":400},                        {\"responsive\": true}                    ).then(function(){\n",
       "                            \n",
       "var gd = document.getElementById('fb5f3cac-26aa-4a26-8a33-d80fab025a2a');\n",
       "var x = new MutationObserver(function (mutations, observer) {{\n",
       "        var display = window.getComputedStyle(gd).display;\n",
       "        if (!display || display === 'none') {{\n",
       "            console.log([gd, 'removed!']);\n",
       "            Plotly.purge(gd);\n",
       "            observer.disconnect();\n",
       "        }}\n",
       "}});\n",
       "\n",
       "// Listen for the removal of the full notebook cells\n",
       "var notebookContainer = gd.closest('#notebook-container');\n",
       "if (notebookContainer) {{\n",
       "    x.observe(notebookContainer, {childList: true});\n",
       "}}\n",
       "\n",
       "// Listen for the clearing of the current output cell\n",
       "var outputEl = gd.closest('.output');\n",
       "if (outputEl) {{\n",
       "    x.observe(outputEl, {childList: true});\n",
       "}}\n",
       "\n",
       "                        })                };                });            </script>        </div>"
      ]
     },
     "metadata": {},
     "output_type": "display_data"
    }
   ],
   "source": [
    "fig = px.scatter(p, x=0, y=1, \n",
    "                \n",
    "                   )\n",
    "\n",
    "fig.update_layout(margin=dict(l=0, r=0, b=0, t=0), width=400)\n",
    "fig.update_traces(marker_size=10)\n",
    "#fig.update_xaxes(range=[-12,12],  scaleratio=1,)\n",
    "#fig.update_yaxes(range=[-12,12],  scaleratio=1,)\n",
    "fig.show()"
   ]
  },
  {
   "cell_type": "markdown",
   "id": "e62d82fd-8ae0-4f30-bc61-9dfe3de5f28a",
   "metadata": {},
   "source": [
    "- 本命はidentical, sigma=1000"
   ]
  },
  {
   "cell_type": "code",
   "execution_count": 44,
   "id": "af46d311-1309-4562-b2e3-5bdf4cdb463d",
   "metadata": {},
   "outputs": [
    {
     "data": {
      "image/png": "[encoded data removed]",
      "text/plain": [
       "<Figure size 1000x500 with 30 Axes>"
      ]
     },
     "metadata": {},
     "output_type": "display_data"
    }
   ],
   "source": [
    "r.all_simMatrixPlot()"
   ]
  },
  {
   "cell_type": "code",
   "execution_count": 100,
   "id": "2794a3b4-9ea3-4883-a880-27bf8b844cda",
   "metadata": {},
   "outputs": [
    {
     "data": {
      "text/html": [
       "<div>\n",
       "<style scoped>\n",
       "    .dataframe tbody tr th:only-of-type {\n",
       "        vertical-align: middle;\n",
       "    }\n",
       "\n",
       "    .dataframe tbody tr th {\n",
       "        vertical-align: top;\n",
       "    }\n",
       "\n",
       "    .dataframe thead th {\n",
       "        text-align: right;\n",
       "    }\n",
       "</style>\n",
       "<table border=\"1\" class=\"dataframe\">\n",
       "  <thead>\n",
       "    <tr style=\"text-align: right;\">\n",
       "      <th></th>\n",
       "      <th>1024</th>\n",
       "      <th>2048</th>\n",
       "      <th>4096</th>\n",
       "    </tr>\n",
       "  </thead>\n",
       "  <tbody>\n",
       "    <tr>\n",
       "      <th>rwkv+CosSim</th>\n",
       "      <td>0.214286</td>\n",
       "      <td>0.214286</td>\n",
       "      <td>0.214286</td>\n",
       "    </tr>\n",
       "    <tr>\n",
       "      <th>rwkv+JFIP</th>\n",
       "      <td>0.228571</td>\n",
       "      <td>0.271429</td>\n",
       "      <td>0.223810</td>\n",
       "    </tr>\n",
       "    <tr>\n",
       "      <th>TDA+CosSim</th>\n",
       "      <td>0.214286</td>\n",
       "      <td>0.214286</td>\n",
       "      <td>0.214286</td>\n",
       "    </tr>\n",
       "    <tr>\n",
       "      <th>TDA+JFIP</th>\n",
       "      <td>0.366667</td>\n",
       "      <td>0.314286</td>\n",
       "      <td>0.323810</td>\n",
       "    </tr>\n",
       "    <tr>\n",
       "      <th>TDA+Bottleneck</th>\n",
       "      <td>0.366667</td>\n",
       "      <td>0.409524</td>\n",
       "      <td>0.423810</td>\n",
       "    </tr>\n",
       "  </tbody>\n",
       "</table>\n",
       "</div>"
      ],
      "text/plain": [
       "                    1024      2048      4096\n",
       "rwkv+CosSim     0.214286  0.214286  0.214286\n",
       "rwkv+JFIP       0.228571  0.271429  0.223810\n",
       "TDA+CosSim      0.214286  0.214286  0.214286\n",
       "TDA+JFIP        0.366667  0.314286  0.323810\n",
       "TDA+Bottleneck  0.366667  0.409524  0.423810"
      ]
     },
     "execution_count": 100,
     "metadata": {},
     "output_type": "execute_result"
    }
   ],
   "source": [
    "pd.DataFrame(np.array(r.getAllScores()).reshape(5, 3), index=[\"rwkv+CosSim\", \"rwkv+JFIP\", \"TDA+CosSim\", \"TDA+JFIP\", \"TDA+Bottleneck\"], columns=[1024, 2048, 4096])\n"
   ]
  },
  {
   "cell_type": "code",
   "execution_count": 86,
   "id": "0e8f59a8-0cb4-4dbe-813b-b90775276427",
   "metadata": {},
   "outputs": [
    {
     "name": "stdout",
     "output_type": "stream",
     "text": [
      "0 0 1\n",
      "0 1 0\n",
      "0 2 0\n",
      "0 3 0\n",
      "0 4 0\n",
      "0 5 0\n",
      "0 6 0\n",
      "0 7 0\n",
      "0 8 0\n",
      "0 9 0\n",
      "0 10 0\n",
      "0 11 0\n",
      "0 12 0\n",
      "0 13 0\n",
      "0 14 0\n",
      "1 0 1\n",
      "1 1 1\n",
      "1 2 0\n",
      "1 3 0\n",
      "1 4 0\n",
      "1 5 0\n",
      "1 6 0\n",
      "1 7 0\n",
      "1 8 0\n",
      "1 9 0\n",
      "1 10 0\n",
      "1 11 0\n",
      "1 12 0\n",
      "1 13 0\n",
      "1 14 0\n",
      "2 0 1\n",
      "2 1 1\n",
      "2 2 1\n",
      "2 3 0\n",
      "2 4 0\n",
      "2 5 0\n",
      "2 6 0\n",
      "2 7 0\n",
      "2 8 0\n",
      "2 9 0\n",
      "2 10 0\n",
      "2 11 0\n",
      "2 12 0\n",
      "2 13 0\n",
      "2 14 0\n",
      "3 0 1\n",
      "3 1 1\n",
      "3 2 1\n",
      "3 3 1\n",
      "3 4 0\n",
      "3 5 0\n",
      "3 6 0\n",
      "3 7 0\n",
      "3 8 0\n",
      "3 9 0\n",
      "3 10 0\n",
      "3 11 0\n",
      "3 12 0\n",
      "3 13 0\n",
      "3 14 0\n",
      "4 0 1\n",
      "4 1 1\n",
      "4 2 1\n",
      "4 3 1\n",
      "4 4 1\n",
      "4 5 0\n",
      "4 6 0\n",
      "4 7 0\n",
      "4 8 0\n",
      "4 9 0\n",
      "4 10 0\n",
      "4 11 0\n",
      "4 12 0\n",
      "4 13 0\n",
      "4 14 0\n",
      "5 0 0\n",
      "5 1 0\n",
      "5 2 0\n",
      "5 3 0\n",
      "5 4 0\n",
      "5 5 1\n",
      "5 6 0\n",
      "5 7 0\n",
      "5 8 0\n",
      "5 9 0\n",
      "5 10 0\n",
      "5 11 0\n",
      "5 12 0\n",
      "5 13 0\n",
      "5 14 0\n",
      "6 0 0\n",
      "6 1 0\n",
      "6 2 0\n",
      "6 3 0\n",
      "6 4 0\n",
      "6 5 1\n",
      "6 6 1\n",
      "6 7 0\n",
      "6 8 0\n",
      "6 9 0\n",
      "6 10 0\n",
      "6 11 0\n",
      "6 12 0\n",
      "6 13 0\n",
      "6 14 0\n",
      "7 0 0\n",
      "7 1 0\n",
      "7 2 0\n",
      "7 3 0\n",
      "7 4 0\n",
      "7 5 1\n",
      "7 6 1\n",
      "7 7 1\n",
      "7 8 0\n",
      "7 9 0\n",
      "7 10 0\n",
      "7 11 0\n",
      "7 12 0\n",
      "7 13 0\n",
      "7 14 0\n",
      "8 0 0\n",
      "8 1 0\n",
      "8 2 0\n",
      "8 3 0\n",
      "8 4 0\n",
      "8 5 1\n",
      "8 6 1\n",
      "8 7 1\n",
      "8 8 1\n",
      "8 9 0\n",
      "8 10 0\n",
      "8 11 0\n",
      "8 12 0\n",
      "8 13 0\n",
      "8 14 0\n",
      "9 0 0\n",
      "9 1 0\n",
      "9 2 0\n",
      "9 3 0\n",
      "9 4 0\n",
      "9 5 1\n",
      "9 6 1\n",
      "9 7 1\n",
      "9 8 1\n",
      "9 9 1\n",
      "9 10 0\n",
      "9 11 0\n",
      "9 12 0\n",
      "9 13 0\n",
      "9 14 0\n",
      "10 0 0\n",
      "10 1 0\n",
      "10 2 0\n",
      "10 3 0\n",
      "10 4 0\n",
      "10 5 0\n",
      "10 6 0\n",
      "10 7 0\n",
      "10 8 0\n",
      "10 9 0\n",
      "10 10 1\n",
      "10 11 0\n",
      "10 12 0\n",
      "10 13 0\n",
      "10 14 0\n",
      "11 0 0\n",
      "11 1 0\n",
      "11 2 0\n",
      "11 3 0\n",
      "11 4 0\n",
      "11 5 0\n",
      "11 6 0\n",
      "11 7 0\n",
      "11 8 0\n",
      "11 9 0\n",
      "11 10 1\n",
      "11 11 1\n",
      "11 12 0\n",
      "11 13 0\n",
      "11 14 0\n",
      "12 0 0\n",
      "12 1 0\n",
      "12 2 0\n",
      "12 3 0\n",
      "12 4 0\n",
      "12 5 0\n",
      "12 6 0\n",
      "12 7 0\n",
      "12 8 0\n",
      "12 9 0\n",
      "12 10 1\n",
      "12 11 1\n",
      "12 12 1\n",
      "12 13 0\n",
      "12 14 0\n",
      "13 0 0\n",
      "13 1 0\n",
      "13 2 0\n",
      "13 3 0\n",
      "13 4 0\n",
      "13 5 0\n",
      "13 6 0\n",
      "13 7 0\n",
      "13 8 0\n",
      "13 9 0\n",
      "13 10 1\n",
      "13 11 1\n",
      "13 12 1\n",
      "13 13 1\n",
      "13 14 0\n",
      "14 0 0\n",
      "14 1 0\n",
      "14 2 0\n",
      "14 3 0\n",
      "14 4 0\n",
      "14 5 0\n",
      "14 6 0\n",
      "14 7 0\n",
      "14 8 0\n",
      "14 9 0\n",
      "14 10 1\n",
      "14 11 1\n",
      "14 12 1\n",
      "14 13 1\n",
      "14 14 1\n"
     ]
    },
    {
     "data": {
      "text/plain": [
       "0.21428571428571427"
      ]
     },
     "execution_count": 86,
     "metadata": {},
     "output_type": "execute_result"
    }
   ],
   "source": [
    "simMat=r.simMat(r.getRwkvEmbeddings, r.CosSim, 1024)\n",
    "n = simMat.shape[0]\n",
    "score = 0\n",
    "for i in range(n):\n",
    "    for j in range(n):\n",
    "        hit = r.hit(i, j, simMat)\n",
    "        print(i, j, hit)\n",
    "        score += hit\n",
    "score/(n*n-n)\n"
   ]
  },
  {
   "cell_type": "code",
   "execution_count": 89,
   "id": "b351f54d-f4c5-4faa-9735-fbbd3d9b03a3",
   "metadata": {},
   "outputs": [
    {
     "name": "stdout",
     "output_type": "stream",
     "text": [
      "0 0 1\n",
      "0 1 0\n",
      "0 2 0\n",
      "0 3 0\n",
      "0 4 0\n",
      "0 5 0\n",
      "0 6 0\n",
      "0 7 0\n",
      "0 8 0\n",
      "0 9 0\n",
      "0 10 0\n",
      "0 11 0\n",
      "0 12 0\n",
      "0 13 0\n",
      "0 14 0\n",
      "1 0 0\n",
      "1 1 1\n",
      "1 2 0\n",
      "1 3 0\n",
      "1 4 0\n",
      "1 5 0\n",
      "1 6 0\n",
      "1 7 0\n",
      "1 8 0\n",
      "1 9 0\n",
      "1 10 0\n",
      "1 11 0\n",
      "1 12 0\n",
      "1 13 0\n",
      "1 14 0\n",
      "2 0 0\n",
      "2 1 0\n",
      "2 2 1\n",
      "2 3 0\n",
      "2 4 0\n",
      "2 5 0\n",
      "2 6 0\n",
      "2 7 0\n",
      "2 8 0\n",
      "2 9 0\n",
      "2 10 0\n",
      "2 11 0\n",
      "2 12 0\n",
      "2 13 0\n",
      "2 14 0\n",
      "3 0 0\n",
      "3 1 0\n",
      "3 2 0\n",
      "3 3 1\n",
      "3 4 0\n",
      "3 5 0\n",
      "3 6 0\n",
      "3 7 0\n",
      "3 8 0\n",
      "3 9 0\n",
      "3 10 0\n",
      "3 11 0\n",
      "3 12 0\n",
      "3 13 0\n",
      "3 14 0\n",
      "4 0 0\n",
      "4 1 0\n",
      "4 2 0\n",
      "4 3 0\n",
      "4 4 1\n",
      "4 5 0\n",
      "4 6 0\n",
      "4 7 0\n",
      "4 8 0\n",
      "4 9 0\n",
      "4 10 0\n",
      "4 11 0\n",
      "4 12 0\n",
      "4 13 0\n",
      "4 14 0\n",
      "5 0 1\n",
      "5 1 1\n",
      "5 2 1\n",
      "5 3 1\n",
      "5 4 1\n",
      "5 5 1\n",
      "5 6 0\n",
      "5 7 0\n",
      "5 8 0\n",
      "5 9 0\n",
      "5 10 0\n",
      "5 11 0\n",
      "5 12 0\n",
      "5 13 0\n",
      "5 14 0\n",
      "6 0 1\n",
      "6 1 1\n",
      "6 2 1\n",
      "6 3 1\n",
      "6 4 1\n",
      "6 5 0\n",
      "6 6 1\n",
      "6 7 0\n",
      "6 8 0\n",
      "6 9 0\n",
      "6 10 0\n",
      "6 11 0\n",
      "6 12 0\n",
      "6 13 0\n",
      "6 14 0\n",
      "7 0 1\n",
      "7 1 1\n",
      "7 2 1\n",
      "7 3 1\n",
      "7 4 1\n",
      "7 5 0\n",
      "7 6 0\n",
      "7 7 1\n",
      "7 8 0\n",
      "7 9 0\n",
      "7 10 0\n",
      "7 11 0\n",
      "7 12 0\n",
      "7 13 0\n",
      "7 14 0\n",
      "8 0 1\n",
      "8 1 1\n",
      "8 2 1\n",
      "8 3 1\n",
      "8 4 1\n",
      "8 5 0\n",
      "8 6 0\n",
      "8 7 0\n",
      "8 8 1\n",
      "8 9 0\n",
      "8 10 0\n",
      "8 11 0\n",
      "8 12 0\n",
      "8 13 0\n",
      "8 14 0\n",
      "9 0 1\n",
      "9 1 0\n",
      "9 2 1\n",
      "9 3 1\n",
      "9 4 1\n",
      "9 5 0\n",
      "9 6 0\n",
      "9 7 0\n",
      "9 8 0\n",
      "9 9 1\n",
      "9 10 0\n",
      "9 11 0\n",
      "9 12 0\n",
      "9 13 0\n",
      "9 14 0\n",
      "10 0 1\n",
      "10 1 1\n",
      "10 2 1\n",
      "10 3 1\n",
      "10 4 1\n",
      "10 5 1\n",
      "10 6 1\n",
      "10 7 1\n",
      "10 8 1\n",
      "10 9 1\n",
      "10 10 1\n",
      "10 11 0\n",
      "10 12 0\n",
      "10 13 0\n",
      "10 14 0\n",
      "11 0 1\n",
      "11 1 1\n",
      "11 2 1\n",
      "11 3 1\n",
      "11 4 1\n",
      "11 5 1\n",
      "11 6 1\n",
      "11 7 1\n",
      "11 8 1\n",
      "11 9 1\n",
      "11 10 0\n",
      "11 11 1\n",
      "11 12 0\n",
      "11 13 0\n",
      "11 14 0\n",
      "12 0 1\n",
      "12 1 1\n",
      "12 2 1\n",
      "12 3 1\n",
      "12 4 1\n",
      "12 5 1\n",
      "12 6 1\n",
      "12 7 1\n",
      "12 8 1\n",
      "12 9 1\n",
      "12 10 0\n",
      "12 11 0\n",
      "12 12 1\n",
      "12 13 0\n",
      "12 14 0\n",
      "13 0 1\n",
      "13 1 1\n",
      "13 2 1\n",
      "13 3 1\n",
      "13 4 1\n",
      "13 5 1\n",
      "13 6 1\n",
      "13 7 1\n",
      "13 8 1\n",
      "13 9 1\n",
      "13 10 0\n",
      "13 11 0\n",
      "13 12 0\n",
      "13 13 1\n",
      "13 14 0\n",
      "14 0 1\n",
      "14 1 1\n",
      "14 2 1\n",
      "14 3 1\n",
      "14 4 1\n",
      "14 5 1\n",
      "14 6 1\n",
      "14 7 1\n",
      "14 8 1\n",
      "14 9 1\n",
      "14 10 0\n",
      "14 11 0\n",
      "14 12 0\n",
      "14 13 0\n",
      "14 14 1\n"
     ]
    },
    {
     "data": {
      "text/plain": [
       "0.4238095238095238"
      ]
     },
     "execution_count": 89,
     "metadata": {},
     "output_type": "execute_result"
    }
   ],
   "source": [
    "simMat=r.simMat(r.getHeadPersistenceDiagramEmbeddings, r.BottleneckSim, 4096)\n",
    "n = simMat.shape[0]\n",
    "score = 0\n",
    "for i in range(n):\n",
    "    for j in range(n):\n",
    "        hit = r.hit(i, j, simMat)\n",
    "        print(i, j, hit)\n",
    "        score += hit\n",
    "score/(n*n-n)"
   ]
  },
  {
   "cell_type": "markdown",
   "id": "fc42388d-afc8-4ddd-a846-c944b1e00309",
   "metadata": {},
   "source": [
    "- postfunc=identical(sigma=0.05)\n",
    "\n",
    "```\n",
    "python3 rwkv_runner.py --rebuild-cache bottleneck\n",
    "python3 rwkv_runner.py --rebuild-cache sim\n",
    "\n",
    "```"
   ]
  },
  {
   "cell_type": "code",
   "execution_count": 46,
   "id": "4dd7295e-dd99-407f-9a97-590e3c61106a",
   "metadata": {},
   "outputs": [
    {
     "name": "stdout",
     "output_type": "stream",
     "text": [
      "[[1.         0.40474628 0.35215017 0.40474644 0.08850025 0.32709196\n",
      "  0.24218038 0.00060902 0.002526   0.3320229  0.08664021 0.40474603\n",
      "  0.62565561 0.0014207  0.40474629]\n",
      " [0.40474645 1.         0.30072074 0.8251991  0.0885003  0.21963128\n",
      "  0.16846192 0.00060902 0.00252599 0.33202292 0.08664021 0.49088026\n",
      "  0.41565477 0.0014207  0.68227875]\n",
      " [0.35215072 0.30072116 1.         0.30072081 0.15861616 0.40083275\n",
      "  0.63273    0.00265115 0.00252601 0.52890734 0.08664022 0.45114371\n",
      "  0.30072114 0.0014207  0.43602969]\n",
      " [0.40474643 0.8251991  0.3007212  1.         0.0885001  0.11191129\n",
      "  0.16846172 0.00060902 0.00252598 0.33202252 0.08664    0.49088068\n",
      "  0.41565517 0.0014207  0.68227883]\n",
      " [0.08850028 0.08850034 0.15861598 0.08850011 1.         0.40155939\n",
      "  0.11065866 0.00060902 0.002526   0.15861609 0.08664022 0.15861613\n",
      "  0.17594982 0.0014207  0.15861585]\n",
      " [0.32709208 0.21963121 0.4008324  0.11191148 0.40155941 1.\n",
      "  0.38733169 0.00060902 0.002526   0.14997725 0.08664022 0.14642096\n",
      "  0.22852247 0.0014207  0.2116851 ]\n",
      " [0.24218055 0.16846195 0.63272982 0.16846167 0.11065871 0.38733161\n",
      "  1.         0.00060902 0.002526   0.30884421 0.08664022 0.24218024\n",
      "  0.27569095 0.0014207  0.22607357]\n",
      " [0.00060902 0.00060902 0.00265116 0.00060902 0.00060902 0.00060902\n",
      "  0.00060902 1.         0.00060902 0.00060902 0.00265114 0.00060902\n",
      "  0.00060902 0.00227696 0.00060902]\n",
      " [0.00252601 0.00252601 0.00252601 0.00252599 0.00252601 0.00252601\n",
      "  0.002526   0.00060902 1.         0.002526   0.002526   0.00252599\n",
      "  0.00252601 0.0014207  0.002526  ]\n",
      " [0.33202306 0.33202305 0.52890734 0.33202306 0.15861596 0.14997689\n",
      "  0.30884402 0.00060902 0.002526   1.         0.08664022 0.42777443\n",
      "  0.33421713 0.0014207  0.33421733]\n",
      " [0.08664014 0.08664023 0.0866402  0.08664012 0.08664022 0.08664026\n",
      "  0.08664013 0.00265114 0.00252601 0.0866402  1.         0.21672563\n",
      "  0.08664006 0.0014207  0.08664025]\n",
      " [0.40474622 0.49088057 0.45114362 0.49088023 0.15861616 0.14642074\n",
      "  0.24218051 0.00060902 0.00252601 0.42777443 0.21672573 1.\n",
      "  0.41565494 0.00142071 0.49088065]\n",
      " [0.62565576 0.41565493 0.30072086 0.41565506 0.17595016 0.2285224\n",
      "  0.27569095 0.00060902 0.00252601 0.33421724 0.08664017 0.41565511\n",
      "  1.         0.0014207  0.41565507]\n",
      " [0.00142071 0.0014207  0.0014207  0.00142071 0.0014207  0.0014207\n",
      "  0.00142069 0.00227697 0.0014207  0.0014207  0.0014207  0.0014207\n",
      "  0.0014207  1.         0.0014207 ]\n",
      " [0.40474622 0.68227883 0.43602965 0.682279   0.15861596 0.21168547\n",
      "  0.22607326 0.00060902 0.002526   0.33421724 0.0866401  0.49088017\n",
      "  0.41565489 0.00142071 1.        ]]\n"
     ]
    },
    {
     "data": {
      "image/png": "[encoded data removed]",
      "text/plain": [
       "<Figure size 640x480 with 2 Axes>"
      ]
     },
     "metadata": {},
     "output_type": "display_data"
    }
   ],
   "source": [
    "np.set_printoptions(suppress=True)\n",
    "import matplotlib.pyplot as plt\n",
    "\n",
    "embFunc = r.getHeadPersistenceDiagramEmbeddings\n",
    "simFunc = r.BottleneckSim\n",
    "numTokens=2048\n",
    "#c = r.db.deleteCache(\"simmat\", embFunc=embFunc, simFunc=simFunc, numTokens=numTokens)\n",
    "# jupyterからプーリングができないので，コマンドラインでキャッシュを作ってから確認すること\n",
    "matrix=r.simMat(embFunc, simFunc, numTokens)\n",
    "print(matrix)\n",
    "fig = plt.figure()\n",
    "ax = fig.add_subplot(1, 1, 1)\n",
    "cax = ax.imshow(matrix, cmap=\"viridis\", origin=\"upper\")\n",
    "cbar = fig.colorbar(cax, shrink=0.8)"
   ]
  },
  {
   "cell_type": "code",
   "execution_count": 48,
   "id": "c1f542b3-f75d-43ff-9364-2aa57740e70f",
   "metadata": {},
   "outputs": [
    {
     "data": {
      "image/png": "[encoded data removed]",
      "text/plain": [
       "<Figure size 1000x500 with 30 Axes>"
      ]
     },
     "metadata": {},
     "output_type": "display_data"
    }
   ],
   "source": [
    "r.all_simMatrixPlot() # topN=10, delay=16"
   ]
  },
  {
   "cell_type": "markdown",
   "id": "110df902-d8a4-4e4d-8a20-a5a4ff66f9ac",
   "metadata": {},
   "source": [
    "- --rebuild-cache sim-all"
   ]
  },
  {
   "cell_type": "code",
   "execution_count": 51,
   "id": "6b1c9cf6-868f-4293-8380-a400a5c57260",
   "metadata": {},
   "outputs": [
    {
     "data": {
      "image/png": "[encoded data removed]",
      "text/plain": [
       "<Figure size 1000x500 with 30 Axes>"
      ]
     },
     "metadata": {},
     "output_type": "display_data"
    }
   ],
   "source": [
    "r.topN=1, delay=16\n",
    "r.all_simMatrixPlot() "
   ]
  },
  {
   "cell_type": "code",
   "execution_count": 52,
   "id": "4a413f25-97e7-47ca-938e-4b11be88a662",
   "metadata": {},
   "outputs": [
    {
     "data": {
      "image/png": "[encoded data removed]",
      "text/plain": [
       "<Figure size 1000x500 with 30 Axes>"
      ]
     },
     "metadata": {},
     "output_type": "display_data"
    }
   ],
   "source": [
    "r.topN=100, delay=16\n",
    "r.all_simMatrixPlot() "
   ]
  },
  {
   "cell_type": "code",
   "execution_count": 53,
   "id": "304f393b-20b0-4552-89c0-d956deaab7e7",
   "metadata": {},
   "outputs": [
    {
     "data": {
      "image/png": "[encoded data removed]",
      "text/plain": [
       "<Figure size 1000x500 with 30 Axes>"
      ]
     },
     "metadata": {},
     "output_type": "display_data"
    }
   ],
   "source": [
    "r.topN=1000, delay=16\n",
    "r.all_simMatrixPlot() "
   ]
  },
  {
   "cell_type": "code",
   "execution_count": 57,
   "id": "85c57b8d-40f5-436f-afdd-d2f0b124fc36",
   "metadata": {},
   "outputs": [
    {
     "ename": "PicklingError",
     "evalue": "Can't pickle <class 'rwkv_runner.rwkv'>: it's not the same object as rwkv_runner.rwkv",
     "output_type": "error",
     "traceback": [
      "\u001b[0;31m---------------------------------------------------------------------------\u001b[0m",
      "\u001b[0;31mPicklingError\u001b[0m                             Traceback (most recent call last)",
      "Cell \u001b[0;32mIn[57], line 1\u001b[0m\n\u001b[0;32m----> 1\u001b[0m \u001b[43mr\u001b[49m\u001b[38;5;241;43m.\u001b[39;49m\u001b[43mgetAllScores\u001b[49m\u001b[43m(\u001b[49m\u001b[43mcache\u001b[49m\u001b[38;5;241;43m=\u001b[39;49m\u001b[38;5;28;43;01mTrue\u001b[39;49;00m\u001b[43m)\u001b[49m\n",
      "File \u001b[0;32m/research/llmEmbeddingAnalysis/rwkv_runner.py:1054\u001b[0m, in \u001b[0;36mgetAllScores\u001b[0;34m(self, cache)\u001b[0m\n\u001b[1;32m   1052\u001b[0m for embedding, similarity in self.datasetParameters:\n\u001b[1;32m   1053\u001b[0m     for numTokens in self.numTokensList:\n\u001b[0;32m-> 1054\u001b[0m         sim = self.simMat(embedding, similarity, numTokens)\n\u001b[1;32m   1055\u001b[0m         score = self.getScore(sim)\n\u001b[1;32m   1056\u001b[0m         scoreArray.append(score)\n",
      "File \u001b[0;32m/research/llmEmbeddingAnalysis/rwkv_runner.py:818\u001b[0m, in \u001b[0;36msimMat\u001b[0;34m(self, getEmbFunc, simFunc, numTokens)\u001b[0m\n\u001b[1;32m    816\u001b[0m if val is None or self.enable_simmat_cache is False:\n\u001b[1;32m    817\u001b[0m     logger.info(f\"simMat cache not found\")\n\u001b[0;32m--> 818\u001b[0m     simMat = self.getSimMatWithoutCache(getEmbFunc, simFunc, numTokens)\n\u001b[1;32m    819\u001b[0m     self.db.setDb(key, simMat)\n\u001b[1;32m    820\u001b[0m     val = simMat\n",
      "File \u001b[0;32m/research/llmEmbeddingAnalysis/rwkv_runner.py:948\u001b[0m, in \u001b[0;36mgetSimMatWithoutCache\u001b[0;34m(self, getEmbFunc, simFunc, numTokens)\u001b[0m\n\u001b[1;32m    946\u001b[0m \"\"\"\n\u001b[1;32m    947\u001b[0m #results = pool.starmap(simFunc, emb_pair_list)\n\u001b[0;32m--> 948\u001b[0m results = pool.starmap(self.getSimilarityFromOut, out_pair_list)\n\u001b[1;32m    949\u001b[0m #with ProcessPoolExecutor(max_workers = 8) as executor:\n\u001b[1;32m    950\u001b[0m #    results = executor.map(getEmbFuncForMP, self_list, name_list, emb1_list, emb2_list)\n",
      "File \u001b[0;32m/usr/lib/python3.9/multiprocessing/pool.py:372\u001b[0m, in \u001b[0;36mPool.starmap\u001b[0;34m(self, func, iterable, chunksize)\u001b[0m\n\u001b[1;32m    366\u001b[0m \u001b[38;5;28;01mdef\u001b[39;00m \u001b[38;5;21mstarmap\u001b[39m(\u001b[38;5;28mself\u001b[39m, func, iterable, chunksize\u001b[38;5;241m=\u001b[39m\u001b[38;5;28;01mNone\u001b[39;00m):\n\u001b[1;32m    367\u001b[0m \u001b[38;5;250m    \u001b[39m\u001b[38;5;124;03m'''\u001b[39;00m\n\u001b[1;32m    368\u001b[0m \u001b[38;5;124;03m    Like `map()` method but the elements of the `iterable` are expected to\u001b[39;00m\n\u001b[1;32m    369\u001b[0m \u001b[38;5;124;03m    be iterables as well and will be unpacked as arguments. Hence\u001b[39;00m\n\u001b[1;32m    370\u001b[0m \u001b[38;5;124;03m    `func` and (a, b) becomes func(a, b).\u001b[39;00m\n\u001b[1;32m    371\u001b[0m \u001b[38;5;124;03m    '''\u001b[39;00m\n\u001b[0;32m--> 372\u001b[0m     \u001b[38;5;28;01mreturn\u001b[39;00m \u001b[38;5;28;43mself\u001b[39;49m\u001b[38;5;241;43m.\u001b[39;49m\u001b[43m_map_async\u001b[49m\u001b[43m(\u001b[49m\u001b[43mfunc\u001b[49m\u001b[43m,\u001b[49m\u001b[43m \u001b[49m\u001b[43miterable\u001b[49m\u001b[43m,\u001b[49m\u001b[43m \u001b[49m\u001b[43mstarmapstar\u001b[49m\u001b[43m,\u001b[49m\u001b[43m \u001b[49m\u001b[43mchunksize\u001b[49m\u001b[43m)\u001b[49m\u001b[38;5;241;43m.\u001b[39;49m\u001b[43mget\u001b[49m\u001b[43m(\u001b[49m\u001b[43m)\u001b[49m\n",
      "File \u001b[0;32m/usr/lib/python3.9/multiprocessing/pool.py:771\u001b[0m, in \u001b[0;36mApplyResult.get\u001b[0;34m(self, timeout)\u001b[0m\n\u001b[1;32m    769\u001b[0m     \u001b[38;5;28;01mreturn\u001b[39;00m \u001b[38;5;28mself\u001b[39m\u001b[38;5;241m.\u001b[39m_value\n\u001b[1;32m    770\u001b[0m \u001b[38;5;28;01melse\u001b[39;00m:\n\u001b[0;32m--> 771\u001b[0m     \u001b[38;5;28;01mraise\u001b[39;00m \u001b[38;5;28mself\u001b[39m\u001b[38;5;241m.\u001b[39m_value\n",
      "File \u001b[0;32m/usr/lib/python3.9/multiprocessing/pool.py:537\u001b[0m, in \u001b[0;36mPool._handle_tasks\u001b[0;34m(taskqueue, put, outqueue, pool, cache)\u001b[0m\n\u001b[1;32m    535\u001b[0m     \u001b[38;5;28;01mbreak\u001b[39;00m\n\u001b[1;32m    536\u001b[0m \u001b[38;5;28;01mtry\u001b[39;00m:\n\u001b[0;32m--> 537\u001b[0m     \u001b[43mput\u001b[49m\u001b[43m(\u001b[49m\u001b[43mtask\u001b[49m\u001b[43m)\u001b[49m\n\u001b[1;32m    538\u001b[0m \u001b[38;5;28;01mexcept\u001b[39;00m \u001b[38;5;167;01mException\u001b[39;00m \u001b[38;5;28;01mas\u001b[39;00m e:\n\u001b[1;32m    539\u001b[0m     job, idx \u001b[38;5;241m=\u001b[39m task[:\u001b[38;5;241m2\u001b[39m]\n",
      "File \u001b[0;32m/usr/lib/python3.9/multiprocessing/connection.py:211\u001b[0m, in \u001b[0;36m_ConnectionBase.send\u001b[0;34m(self, obj)\u001b[0m\n\u001b[1;32m    209\u001b[0m \u001b[38;5;28mself\u001b[39m\u001b[38;5;241m.\u001b[39m_check_closed()\n\u001b[1;32m    210\u001b[0m \u001b[38;5;28mself\u001b[39m\u001b[38;5;241m.\u001b[39m_check_writable()\n\u001b[0;32m--> 211\u001b[0m \u001b[38;5;28mself\u001b[39m\u001b[38;5;241m.\u001b[39m_send_bytes(\u001b[43m_ForkingPickler\u001b[49m\u001b[38;5;241;43m.\u001b[39;49m\u001b[43mdumps\u001b[49m\u001b[43m(\u001b[49m\u001b[43mobj\u001b[49m\u001b[43m)\u001b[49m)\n",
      "File \u001b[0;32m/usr/lib/python3.9/multiprocessing/reduction.py:51\u001b[0m, in \u001b[0;36mForkingPickler.dumps\u001b[0;34m(cls, obj, protocol)\u001b[0m\n\u001b[1;32m     48\u001b[0m \u001b[38;5;129m@classmethod\u001b[39m\n\u001b[1;32m     49\u001b[0m \u001b[38;5;28;01mdef\u001b[39;00m \u001b[38;5;21mdumps\u001b[39m(\u001b[38;5;28mcls\u001b[39m, obj, protocol\u001b[38;5;241m=\u001b[39m\u001b[38;5;28;01mNone\u001b[39;00m):\n\u001b[1;32m     50\u001b[0m     buf \u001b[38;5;241m=\u001b[39m io\u001b[38;5;241m.\u001b[39mBytesIO()\n\u001b[0;32m---> 51\u001b[0m     \u001b[38;5;28;43mcls\u001b[39;49m\u001b[43m(\u001b[49m\u001b[43mbuf\u001b[49m\u001b[43m,\u001b[49m\u001b[43m \u001b[49m\u001b[43mprotocol\u001b[49m\u001b[43m)\u001b[49m\u001b[38;5;241;43m.\u001b[39;49m\u001b[43mdump\u001b[49m\u001b[43m(\u001b[49m\u001b[43mobj\u001b[49m\u001b[43m)\u001b[49m\n\u001b[1;32m     52\u001b[0m     \u001b[38;5;28;01mreturn\u001b[39;00m buf\u001b[38;5;241m.\u001b[39mgetbuffer()\n",
      "\u001b[0;31mPicklingError\u001b[0m: Can't pickle <class 'rwkv_runner.rwkv'>: it's not the same object as rwkv_runner.rwkv"
     ]
    },
    {
     "data": {
      "text/plain": [
       "<Figure size 640x480 with 0 Axes>"
      ]
     },
     "metadata": {},
     "output_type": "display_data"
    }
   ],
   "source": [
    "r.getAllScores(cache=True)"
   ]
  },
  {
   "cell_type": "code",
   "execution_count": null,
   "id": "77c3622e-b919-459f-96c9-eb76db2eecdd",
   "metadata": {},
   "outputs": [],
   "source": []
  }
 ],
 "metadata": {
  "kernelspec": {
   "display_name": "Python 3 (ipykernel)",
   "language": "python",
   "name": "python3"
  },
  "language_info": {
   "codemirror_mode": {
    "name": "ipython",
    "version": 3
   },
   "file_extension": ".py",
   "mimetype": "text/x-python",
   "name": "python",
   "nbconvert_exporter": "python",
   "pygments_lexer": "ipython3",
   "version": "3.9.2"
  }
 },
 "nbformat": 4,
 "nbformat_minor": 5
}
